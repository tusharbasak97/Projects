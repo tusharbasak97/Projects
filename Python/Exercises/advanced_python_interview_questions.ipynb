{
 "cells": [
  {
   "cell_type": "markdown",
   "id": "a4299b03",
   "metadata": {},
   "source": [
    "# Advanced Python Practice Questions"
   ]
  },
  {
   "cell_type": "markdown",
   "id": "85214569",
   "metadata": {},
   "source": [
    "## Decorators"
   ]
  },
  {
   "cell_type": "markdown",
   "id": "8c473c9e",
   "metadata": {},
   "source": [
    "What is a decorator in Python?"
   ]
  },
  {
   "cell_type": "code",
   "execution_count": null,
   "id": "6692db21",
   "metadata": {},
   "outputs": [],
   "source": [
    "# Your answer here"
   ]
  },
  {
   "cell_type": "markdown",
   "id": "b8fe2a6c",
   "metadata": {},
   "source": [
    "How do you define a decorator function?"
   ]
  },
  {
   "cell_type": "code",
   "execution_count": null,
   "id": "64f2ee2e",
   "metadata": {},
   "outputs": [],
   "source": [
    "# Your answer here"
   ]
  },
  {
   "cell_type": "markdown",
   "id": "cad2d48e",
   "metadata": {},
   "source": [
    "Explain the use of the `@staticmethod` decorator."
   ]
  },
  {
   "cell_type": "code",
   "execution_count": null,
   "id": "2fe21a40",
   "metadata": {},
   "outputs": [],
   "source": [
    "# Your answer here"
   ]
  },
  {
   "cell_type": "markdown",
   "id": "f9772f06",
   "metadata": {},
   "source": [
    "How can you use a decorator to measure the execution time of a function?"
   ]
  },
  {
   "cell_type": "code",
   "execution_count": null,
   "id": "ec4eb020",
   "metadata": {},
   "outputs": [],
   "source": [
    "# Your answer here"
   ]
  },
  {
   "cell_type": "markdown",
   "id": "9e37e745",
   "metadata": {},
   "source": [
    "Differentiate between function-based and class-based decorators."
   ]
  },
  {
   "cell_type": "code",
   "execution_count": null,
   "id": "39887efd",
   "metadata": {},
   "outputs": [],
   "source": [
    "# Your answer here"
   ]
  },
  {
   "cell_type": "markdown",
   "id": "0c8b559b",
   "metadata": {},
   "source": [
    "### Coding Questions:"
   ]
  },
  {
   "cell_type": "markdown",
   "id": "666c834d",
   "metadata": {},
   "source": [
    "Implement a timing decorator that measures the execution time of a function."
   ]
  },
  {
   "cell_type": "code",
   "execution_count": null,
   "id": "33d7149d",
   "metadata": {},
   "outputs": [],
   "source": [
    "# Your answer here"
   ]
  },
  {
   "cell_type": "markdown",
   "id": "baa691af",
   "metadata": {},
   "source": [
    "Create a decorator that logs the parameters and return value of a function."
   ]
  },
  {
   "cell_type": "code",
   "execution_count": null,
   "id": "9c7a4a36",
   "metadata": {},
   "outputs": [],
   "source": [
    "# Your answer here"
   ]
  },
  {
   "cell_type": "markdown",
   "id": "5f92b012",
   "metadata": {},
   "source": [
    "Implement a memoization decorator to cache the results of a function."
   ]
  },
  {
   "cell_type": "code",
   "execution_count": null,
   "id": "880e923b",
   "metadata": {},
   "outputs": [],
   "source": [
    "# Your answer here"
   ]
  },
  {
   "cell_type": "markdown",
   "id": "528cd40b",
   "metadata": {},
   "source": [
    "## Generators"
   ]
  },
  {
   "cell_type": "markdown",
   "id": "f7a62092",
   "metadata": {},
   "source": [
    "What is a generator in Python?"
   ]
  },
  {
   "cell_type": "code",
   "execution_count": null,
   "id": "9daccbef",
   "metadata": {},
   "outputs": [],
   "source": [
    "# Your answer here"
   ]
  },
  {
   "cell_type": "markdown",
   "id": "164a09d5",
   "metadata": {},
   "source": [
    "Explain the difference between a generator and a regular function."
   ]
  },
  {
   "cell_type": "code",
   "execution_count": null,
   "id": "23b26bc1",
   "metadata": {},
   "outputs": [],
   "source": [
    "# Your answer here"
   ]
  },
  {
   "cell_type": "markdown",
   "id": "3c2e1910",
   "metadata": {},
   "source": [
    "How do you create a generator function using the yield statement?"
   ]
  },
  {
   "cell_type": "code",
   "execution_count": null,
   "id": "1b3390c3",
   "metadata": {},
   "outputs": [],
   "source": [
    "# Your answer here"
   ]
  },
  {
   "cell_type": "markdown",
   "id": "390cb8d2",
   "metadata": {},
   "source": [
    "What are the advantages of using generators over lists in terms of memory usage?"
   ]
  },
  {
   "cell_type": "code",
   "execution_count": null,
   "id": "0d67d298",
   "metadata": {},
   "outputs": [],
   "source": [
    "# Your answer here"
   ]
  },
  {
   "cell_type": "markdown",
   "id": "b6070338",
   "metadata": {},
   "source": [
    "Explain the concept of lazy evaluation in the context of generators."
   ]
  },
  {
   "cell_type": "code",
   "execution_count": null,
   "id": "2d4efcae",
   "metadata": {},
   "outputs": [],
   "source": [
    "# Your answer here"
   ]
  },
  {
   "cell_type": "markdown",
   "id": "5e1a6dd3",
   "metadata": {},
   "source": [
    "### Coding Questions:"
   ]
  },
  {
   "cell_type": "markdown",
   "id": "4d5523de",
   "metadata": {},
   "source": [
    "Write a generator function to generate the Fibonacci sequence up to a given limit."
   ]
  },
  {
   "cell_type": "code",
   "execution_count": null,
   "id": "a6fd01b1",
   "metadata": {},
   "outputs": [],
   "source": [
    "# Your answer here"
   ]
  },
  {
   "cell_type": "markdown",
   "id": "c1bfa9f9",
   "metadata": {},
   "source": [
    "Create a generator that yields the powers of 2 indefinitely."
   ]
  },
  {
   "cell_type": "code",
   "execution_count": null,
   "id": "84fd2d4e",
   "metadata": {},
   "outputs": [],
   "source": [
    "# Your answer here"
   ]
  },
  {
   "cell_type": "markdown",
   "id": "e466c6c6",
   "metadata": {},
   "source": [
    "Implement a generator that reads lines from a file and yields them one by one."
   ]
  },
  {
   "cell_type": "code",
   "execution_count": null,
   "id": "824d6e93",
   "metadata": {},
   "outputs": [],
   "source": [
    "# Your answer here"
   ]
  },
  {
   "cell_type": "markdown",
   "id": "bbd47437",
   "metadata": {},
   "source": [
    "## Context Managers"
   ]
  },
  {
   "cell_type": "markdown",
   "id": "bf17937d",
   "metadata": {},
   "source": [
    "What is a context manager in Python?"
   ]
  },
  {
   "cell_type": "code",
   "execution_count": null,
   "id": "c9d1da4f",
   "metadata": {},
   "outputs": [],
   "source": [
    "# Your answer here"
   ]
  },
  {
   "cell_type": "markdown",
   "id": "0534f3b1",
   "metadata": {},
   "source": [
    "How do you create a context manager using the with statement?"
   ]
  },
  {
   "cell_type": "code",
   "execution_count": null,
   "id": "fc3b119f",
   "metadata": {},
   "outputs": [],
   "source": [
    "# Your answer here"
   ]
  },
  {
   "cell_type": "markdown",
   "id": "d1109e41",
   "metadata": {},
   "source": [
    "Explain the purpose of the __enter__ and __exit__ methods in a context manager."
   ]
  },
  {
   "cell_type": "code",
   "execution_count": null,
   "id": "4ea5a7af",
   "metadata": {},
   "outputs": [],
   "source": [
    "# Your answer here"
   ]
  },
  {
   "cell_type": "markdown",
   "id": "b6db5e40",
   "metadata": {},
   "source": [
    "Provide an example of using the contextlib module to create a context manager."
   ]
  },
  {
   "cell_type": "code",
   "execution_count": null,
   "id": "97e5b91d",
   "metadata": {},
   "outputs": [],
   "source": [
    "# Your answer here"
   ]
  },
  {
   "cell_type": "markdown",
   "id": "4476ea7c",
   "metadata": {},
   "source": [
    "How can you create a custom context manager using a class."
   ]
  },
  {
   "cell_type": "code",
   "execution_count": null,
   "id": "9ca4078b",
   "metadata": {},
   "outputs": [],
   "source": [
    "# Your answer here"
   ]
  },
  {
   "cell_type": "markdown",
   "id": "ef20ad40",
   "metadata": {},
   "source": [
    "### Coding Questions:"
   ]
  },
  {
   "cell_type": "markdown",
   "id": "2cf2e12c",
   "metadata": {},
   "source": [
    "Create a context manager that measures the time it takes to execute a block of code."
   ]
  },
  {
   "cell_type": "code",
   "execution_count": null,
   "id": "4f01d9e4",
   "metadata": {},
   "outputs": [],
   "source": [
    "# Your answer here"
   ]
  },
  {
   "cell_type": "markdown",
   "id": "7450feda",
   "metadata": {},
   "source": [
    "Implement a context manager for file handling that ensures proper closing of the file."
   ]
  },
  {
   "cell_type": "code",
   "execution_count": null,
   "id": "96b1e02a",
   "metadata": {},
   "outputs": [],
   "source": [
    "# Your answer here"
   ]
  },
  {
   "cell_type": "markdown",
   "id": "bb7ed218",
   "metadata": {},
   "source": [
    "Write a context manager that suppresses a specified exception within its block."
   ]
  },
  {
   "cell_type": "code",
   "execution_count": null,
   "id": "28f14cf3",
   "metadata": {},
   "outputs": [],
   "source": [
    "# Your answer here"
   ]
  },
  {
   "cell_type": "markdown",
   "id": "2e6e6b87",
   "metadata": {},
   "source": [
    "## Metaclasses"
   ]
  },
  {
   "cell_type": "markdown",
   "id": "6a738869",
   "metadata": {},
   "source": [
    "What is a metaclass in Python?"
   ]
  },
  {
   "cell_type": "code",
   "execution_count": null,
   "id": "d6d61e2b",
   "metadata": {},
   "outputs": [],
   "source": [
    "# Your answer here"
   ]
  },
  {
   "cell_type": "markdown",
   "id": "4213508c",
   "metadata": {},
   "source": [
    "Explain the relationship between classes and metaclasses."
   ]
  },
  {
   "cell_type": "code",
   "execution_count": null,
   "id": "b6461615",
   "metadata": {},
   "outputs": [],
   "source": [
    "# Your answer here"
   ]
  },
  {
   "cell_type": "markdown",
   "id": "a7c2f23c",
   "metadata": {},
   "source": [
    "How do you define a custom metaclass?"
   ]
  },
  {
   "cell_type": "code",
   "execution_count": null,
   "id": "d9c1bf9a",
   "metadata": {},
   "outputs": [],
   "source": [
    "# Your answer here"
   ]
  },
  {
   "cell_type": "markdown",
   "id": "ebea3115",
   "metadata": {},
   "source": [
    "Provide an example of using a metaclass to modify class behavior."
   ]
  },
  {
   "cell_type": "code",
   "execution_count": null,
   "id": "633d0683",
   "metadata": {},
   "outputs": [],
   "source": [
    "# Your answer here"
   ]
  },
  {
   "cell_type": "markdown",
   "id": "309fabdf",
   "metadata": {},
   "source": [
    "What is the purpose of the __new__ and __init__ methods in a metaclass."
   ]
  },
  {
   "cell_type": "code",
   "execution_count": null,
   "id": "03d30bb8",
   "metadata": {},
   "outputs": [],
   "source": [
    "# Your answer here"
   ]
  },
  {
   "cell_type": "markdown",
   "id": "8bb90e55",
   "metadata": {},
   "source": [
    "### Coding Questions:"
   ]
  },
  {
   "cell_type": "markdown",
   "id": "b1a29262",
   "metadata": {},
   "source": [
    "Define a metaclass that ensures all class attributes are uppercase."
   ]
  },
  {
   "cell_type": "code",
   "execution_count": null,
   "id": "fd7f949e",
   "metadata": {},
   "outputs": [],
   "source": [
    "# Your answer here"
   ]
  },
  {
   "cell_type": "markdown",
   "id": "ca43c5e1",
   "metadata": {},
   "source": [
    "Implement a metaclass that automatically adds a custom method to all classes it modifies."
   ]
  },
  {
   "cell_type": "code",
   "execution_count": null,
   "id": "38692b22",
   "metadata": {},
   "outputs": [],
   "source": [
    "# Your answer here"
   ]
  },
  {
   "cell_type": "markdown",
   "id": "77a0bb90",
   "metadata": {},
   "source": [
    "Write a metaclass that keeps track of the number of instances created for its classes."
   ]
  },
  {
   "cell_type": "code",
   "execution_count": null,
   "id": "dcaebc56",
   "metadata": {},
   "outputs": [],
   "source": [
    "# Your answer here"
   ]
  },
  {
   "cell_type": "markdown",
   "id": "4e508881",
   "metadata": {},
   "source": [
    "## Asynchronous Programming"
   ]
  },
  {
   "cell_type": "markdown",
   "id": "baaf4852",
   "metadata": {},
   "source": [
    "What is asynchronous programming in Python?"
   ]
  },
  {
   "cell_type": "code",
   "execution_count": null,
   "id": "f0fafecd",
   "metadata": {},
   "outputs": [],
   "source": [
    "# Your answer here"
   ]
  },
  {
   "cell_type": "markdown",
   "id": "0b233725",
   "metadata": {},
   "source": [
    "Explain the difference between synchronous and asynchronous code execution."
   ]
  },
  {
   "cell_type": "code",
   "execution_count": null,
   "id": "e890baf7",
   "metadata": {},
   "outputs": [],
   "source": [
    "# Your answer here"
   ]
  },
  {
   "cell_type": "markdown",
   "id": "1680232c",
   "metadata": {},
   "source": [
    "How do you define an asynchronous function using async def?"
   ]
  },
  {
   "cell_type": "code",
   "execution_count": null,
   "id": "90c865c4",
   "metadata": {},
   "outputs": [],
   "source": [
    "# Your answer here"
   ]
  },
  {
   "cell_type": "markdown",
   "id": "0b26dc0b",
   "metadata": {},
   "source": [
    "What is an event loop, and how does it relate to asynchronous programming?"
   ]
  },
  {
   "cell_type": "code",
   "execution_count": null,
   "id": "7b01b190",
   "metadata": {},
   "outputs": [],
   "source": [
    "# Your answer here"
   ]
  },
  {
   "cell_type": "markdown",
   "id": "7ab766ad",
   "metadata": {},
   "source": [
    "Provide an example of using the asyncio module for asynchronous programming."
   ]
  },
  {
   "cell_type": "code",
   "execution_count": null,
   "id": "b2511515",
   "metadata": {},
   "outputs": [],
   "source": [
    "# Your answer here"
   ]
  },
  {
   "cell_type": "markdown",
   "id": "2879a791",
   "metadata": {},
   "source": [
    "### Coding Questions:"
   ]
  },
  {
   "cell_type": "markdown",
   "id": "0737694d",
   "metadata": {},
   "source": [
    "Create an asynchronous function that simulates parallel downloads of multiple URLs."
   ]
  },
  {
   "cell_type": "code",
   "execution_count": null,
   "id": "584f864c",
   "metadata": {},
   "outputs": [],
   "source": [
    "# Your answer here"
   ]
  },
  {
   "cell_type": "markdown",
   "id": "e5534096",
   "metadata": {},
   "source": [
    "Write an asynchronous program to fetch and process data from multiple APIs concurrently."
   ]
  },
  {
   "cell_type": "code",
   "execution_count": null,
   "id": "5166d792",
   "metadata": {},
   "outputs": [],
   "source": [
    "# Your answer here"
   ]
  },
  {
   "cell_type": "markdown",
   "id": "d550f752",
   "metadata": {},
   "source": [
    "Implement a simple asynchronous web scraper using aiohttp."
   ]
  },
  {
   "cell_type": "code",
   "execution_count": null,
   "id": "e82db058",
   "metadata": {},
   "outputs": [],
   "source": [
    "# Your answer here"
   ]
  },
  {
   "cell_type": "markdown",
   "id": "e3f4e99e",
   "metadata": {},
   "source": [
    "## Coroutines"
   ]
  },
  {
   "cell_type": "markdown",
   "id": "4191acbb",
   "metadata": {},
   "source": [
    "What is a coroutine in Python?"
   ]
  },
  {
   "cell_type": "code",
   "execution_count": null,
   "id": "fa47ae66",
   "metadata": {},
   "outputs": [],
   "source": [
    "# Your answer here"
   ]
  },
  {
   "cell_type": "markdown",
   "id": "e0ef091d",
   "metadata": {},
   "source": [
    "How do you define a coroutine function?"
   ]
  },
  {
   "cell_type": "code",
   "execution_count": null,
   "id": "2fd9b6ad",
   "metadata": {},
   "outputs": [],
   "source": [
    "# Your answer here"
   ]
  },
  {
   "cell_type": "markdown",
   "id": "10e21c54",
   "metadata": {},
   "source": [
    "Explain the use of await in the context of coroutines."
   ]
  },
  {
   "cell_type": "code",
   "execution_count": null,
   "id": "83885fff",
   "metadata": {},
   "outputs": [],
   "source": [
    "# Your answer here"
   ]
  },
  {
   "cell_type": "markdown",
   "id": "20f41db7",
   "metadata": {},
   "source": [
    "Compare coroutines to regular functions in terms of execution."
   ]
  },
  {
   "cell_type": "code",
   "execution_count": null,
   "id": "3585ed24",
   "metadata": {},
   "outputs": [],
   "source": [
    "# Your answer here"
   ]
  },
  {
   "cell_type": "markdown",
   "id": "657a9c53",
   "metadata": {},
   "source": [
    "How can you run multiple coroutines concurrently using asyncio.gather()?"
   ]
  },
  {
   "cell_type": "code",
   "execution_count": null,
   "id": "7f2927ad",
   "metadata": {},
   "outputs": [],
   "source": [
    "# Your answer here"
   ]
  },
  {
   "cell_type": "markdown",
   "id": "516cb89a",
   "metadata": {},
   "source": [
    "### Coding Questions:"
   ]
  },
  {
   "cell_type": "markdown",
   "id": "417b3520",
   "metadata": {},
   "source": [
    "Write a coroutine function to read lines from a file asynchronously."
   ]
  },
  {
   "cell_type": "code",
   "execution_count": null,
   "id": "0385895c",
   "metadata": {},
   "outputs": [],
   "source": [
    "# Your answer here"
   ]
  },
  {
   "cell_type": "markdown",
   "id": "21b3286c",
   "metadata": {},
   "source": [
    "Create a program that uses coroutines to download web pages concurrently."
   ]
  },
  {
   "cell_type": "code",
   "execution_count": null,
   "id": "b8e06407",
   "metadata": {},
   "outputs": [],
   "source": [
    "# Your answer here"
   ]
  },
  {
   "cell_type": "markdown",
   "id": "6a6a05cf",
   "metadata": {},
   "source": [
    "Implement a coroutine that processes a stream of data and yields aggregated results."
   ]
  },
  {
   "cell_type": "code",
   "execution_count": null,
   "id": "8d864dc7",
   "metadata": {},
   "outputs": [],
   "source": [
    "# Your answer here"
   ]
  },
  {
   "cell_type": "markdown",
   "id": "7c89b38a",
   "metadata": {},
   "source": [
    "## Async/Await"
   ]
  },
  {
   "cell_type": "markdown",
   "id": "79e20d8f",
   "metadata": {},
   "source": [
    "What is the purpose of the async and await keywords?"
   ]
  },
  {
   "cell_type": "code",
   "execution_count": null,
   "id": "346c72bc",
   "metadata": {},
   "outputs": [],
   "source": [
    "# Your answer here"
   ]
  },
  {
   "cell_type": "markdown",
   "id": "3de2f312",
   "metadata": {},
   "source": [
    "How do you handle exceptions in asynchronous code?"
   ]
  },
  {
   "cell_type": "code",
   "execution_count": null,
   "id": "41358f19",
   "metadata": {},
   "outputs": [],
   "source": [
    "# Your answer here"
   ]
  },
  {
   "cell_type": "markdown",
   "id": "cbca8e0b",
   "metadata": {},
   "source": [
    "Explain the concept of an asynchronous context manager."
   ]
  },
  {
   "cell_type": "code",
   "execution_count": null,
   "id": "091cbc14",
   "metadata": {},
   "outputs": [],
   "source": [
    "# Your answer here"
   ]
  },
  {
   "cell_type": "markdown",
   "id": "06ec505e",
   "metadata": {},
   "source": [
    "Provide an example of using asyncio.sleep() for asynchronous delays."
   ]
  },
  {
   "cell_type": "code",
   "execution_count": null,
   "id": "7357594b",
   "metadata": {},
   "outputs": [],
   "source": [
    "# Your answer here"
   ]
  },
  {
   "cell_type": "markdown",
   "id": "d2697a36",
   "metadata": {},
   "source": [
    "What are the limitations of using asyncio for asynchronous programming?"
   ]
  },
  {
   "cell_type": "code",
   "execution_count": null,
   "id": "6c0e04ae",
   "metadata": {},
   "outputs": [],
   "source": [
    "# Your answer here"
   ]
  },
  {
   "cell_type": "markdown",
   "id": "6f775c27",
   "metadata": {},
   "source": [
    "### Coding Questions:"
   ]
  },
  {
   "cell_type": "markdown",
   "id": "1ede00d3",
   "metadata": {},
   "source": [
    "Write an asynchronous function to handle multiple HTTP requests concurrently."
   ]
  },
  {
   "cell_type": "code",
   "execution_count": null,
   "id": "5aca85cd",
   "metadata": {},
   "outputs": [],
   "source": [
    "# Your answer here"
   ]
  },
  {
   "cell_type": "markdown",
   "id": "4856095a",
   "metadata": {},
   "source": [
    "Create an asynchronous program that simulates asynchronous I/O operations."
   ]
  },
  {
   "cell_type": "code",
   "execution_count": null,
   "id": "57f20b78",
   "metadata": {},
   "outputs": [],
   "source": [
    "# Your answer here"
   ]
  },
  {
   "cell_type": "markdown",
   "id": "d51000b2",
   "metadata": {},
   "source": [
    "## Concurrency"
   ]
  },
  {
   "cell_type": "markdown",
   "id": "a5e87874",
   "metadata": {},
   "source": [
    "Differentiate between concurrency and parallelism."
   ]
  },
  {
   "cell_type": "code",
   "execution_count": null,
   "id": "1ab1f816",
   "metadata": {},
   "outputs": [],
   "source": [
    "# Your answer here"
   ]
  },
  {
   "cell_type": "markdown",
   "id": "94e1f476",
   "metadata": {},
   "source": [
    "How can you achieve concurrent execution in Python using threads?"
   ]
  },
  {
   "cell_type": "code",
   "execution_count": null,
   "id": "3f2e3320",
   "metadata": {},
   "outputs": [],
   "source": [
    "# Your answer here"
   ]
  },
  {
   "cell_type": "markdown",
   "id": "7bb91753",
   "metadata": {},
   "source": [
    "Explain the Global Interpreter Lock (GIL) and its impact on concurrency."
   ]
  },
  {
   "cell_type": "code",
   "execution_count": null,
   "id": "c9b7b313",
   "metadata": {},
   "outputs": [],
   "source": [
    "# Your answer here"
   ]
  },
  {
   "cell_type": "markdown",
   "id": "6e8359e4",
   "metadata": {},
   "source": [
    "Compare the use of threads and asyncio for concurrent programming."
   ]
  },
  {
   "cell_type": "code",
   "execution_count": null,
   "id": "c35e2ba5",
   "metadata": {},
   "outputs": [],
   "source": [
    "# Your answer here"
   ]
  },
  {
   "cell_type": "markdown",
   "id": "45f485f2",
   "metadata": {},
   "source": [
    "Provide an example of using the concurrent.futures module for parallelism."
   ]
  },
  {
   "cell_type": "code",
   "execution_count": null,
   "id": "bf997a96",
   "metadata": {},
   "outputs": [],
   "source": [
    "# Your answer here"
   ]
  },
  {
   "cell_type": "markdown",
   "id": "5dedcd59",
   "metadata": {},
   "source": [
    "### Coding Questions:"
   ]
  },
  {
   "cell_type": "markdown",
   "id": "049ed423",
   "metadata": {},
   "source": [
    "Implement a program that uses threads to parallelize a CPU-bound task."
   ]
  },
  {
   "cell_type": "code",
   "execution_count": null,
   "id": "d589ae73",
   "metadata": {},
   "outputs": [],
   "source": [
    "# Your answer here"
   ]
  },
  {
   "cell_type": "markdown",
   "id": "9c2b8cad",
   "metadata": {},
   "source": [
    "Write a Python script that demonstrates the use of multiprocessing for parallelism."
   ]
  },
  {
   "cell_type": "code",
   "execution_count": null,
   "id": "4934db74",
   "metadata": {},
   "outputs": [],
   "source": [
    "# Your answer here"
   ]
  },
  {
   "cell_type": "markdown",
   "id": "3cc4a851",
   "metadata": {},
   "source": [
    "Create a program that uses concurrent futures to parallelize tasks."
   ]
  },
  {
   "cell_type": "code",
   "execution_count": null,
   "id": "c29a2ef8",
   "metadata": {},
   "outputs": [],
   "source": [
    "# Your answer here"
   ]
  },
  {
   "cell_type": "markdown",
   "id": "500814ee",
   "metadata": {},
   "source": [
    "## Metaprogramming"
   ]
  },
  {
   "cell_type": "markdown",
   "id": "8f2b3ba1",
   "metadata": {},
   "source": [
    "What is metaprogramming in Python?"
   ]
  },
  {
   "cell_type": "code",
   "execution_count": null,
   "id": "ec5d8fbc",
   "metadata": {},
   "outputs": [],
   "source": [
    "# Your answer here"
   ]
  },
  {
   "cell_type": "markdown",
   "id": "3979f715",
   "metadata": {},
   "source": [
    "Explain how decorators and metaclasses are forms of metaprogramming."
   ]
  },
  {
   "cell_type": "code",
   "execution_count": null,
   "id": "b67cc715",
   "metadata": {},
   "outputs": [],
   "source": [
    "# Your answer here"
   ]
  },
  {
   "cell_type": "markdown",
   "id": "b9408385",
   "metadata": {},
   "source": [
    "Provide a use case for dynamically creating classes at runtime."
   ]
  },
  {
   "cell_type": "code",
   "execution_count": null,
   "id": "c70f7a4b",
   "metadata": {},
   "outputs": [],
   "source": [
    "# Your answer here"
   ]
  },
  {
   "cell_type": "markdown",
   "id": "accddbba",
   "metadata": {},
   "source": [
    "How do you inspect and manipulate the attributes of a class programmatically?"
   ]
  },
  {
   "cell_type": "code",
   "execution_count": null,
   "id": "f36efa60",
   "metadata": {},
   "outputs": [],
   "source": [
    "# Your answer here"
   ]
  },
  {
   "cell_type": "markdown",
   "id": "a6e95d43",
   "metadata": {},
   "source": [
    "Explain the purpose of the __getattr__ and __setattr__ methods in metaprogramming."
   ]
  },
  {
   "cell_type": "code",
   "execution_count": null,
   "id": "07dbaf60",
   "metadata": {},
   "outputs": [],
   "source": [
    "# Your answer here"
   ]
  },
  {
   "cell_type": "markdown",
   "id": "805d1957",
   "metadata": {},
   "source": [
    "### Coding Questions:"
   ]
  },
  {
   "cell_type": "markdown",
   "id": "b16cad55",
   "metadata": {},
   "source": [
    "Write a decorator that validates the input types of a function."
   ]
  },
  {
   "cell_type": "code",
   "execution_count": null,
   "id": "8e77c416",
   "metadata": {},
   "outputs": [],
   "source": [
    "# Your answer here"
   ]
  },
  {
   "cell_type": "markdown",
   "id": "74085afb",
   "metadata": {},
   "source": [
    "Implement a metaclass that enforces a naming convention for class attributes."
   ]
  },
  {
   "cell_type": "code",
   "execution_count": null,
   "id": "b856945e",
   "metadata": {},
   "outputs": [],
   "source": [
    "# Your answer here"
   ]
  },
  {
   "cell_type": "markdown",
   "id": "b708a004",
   "metadata": {},
   "source": [
    "Create a program that dynamically generates classes based on user input."
   ]
  },
  {
   "cell_type": "code",
   "execution_count": null,
   "id": "c3a02632",
   "metadata": {},
   "outputs": [],
   "source": [
    "# Your answer here"
   ]
  },
  {
   "cell_type": "markdown",
   "id": "978c8b13",
   "metadata": {},
   "source": [
    "## Dynamic Typing"
   ]
  },
  {
   "cell_type": "markdown",
   "id": "76f92a51",
   "metadata": {},
   "source": [
    "What is dynamic typing in Python?"
   ]
  },
  {
   "cell_type": "code",
   "execution_count": null,
   "id": "92fef311",
   "metadata": {},
   "outputs": [],
   "source": [
    "# Your answer here"
   ]
  },
  {
   "cell_type": "markdown",
   "id": "95c00d8b",
   "metadata": {},
   "source": [
    "Explain the difference between static typing and dynamic typing."
   ]
  },
  {
   "cell_type": "code",
   "execution_count": null,
   "id": "5a1a9c33",
   "metadata": {},
   "outputs": [],
   "source": [
    "# Your answer here"
   ]
  },
  {
   "cell_type": "markdown",
   "id": "465bc3ad",
   "metadata": {},
   "source": [
    "How does dynamic typing contribute to the flexibility of Python code?"
   ]
  },
  {
   "cell_type": "code",
   "execution_count": null,
   "id": "f6cbb40c",
   "metadata": {},
   "outputs": [],
   "source": [
    "# Your answer here"
   ]
  },
  {
   "cell_type": "markdown",
   "id": "eeef2166",
   "metadata": {},
   "source": [
    "Provide an example of using dynamic typing in a function."
   ]
  },
  {
   "cell_type": "code",
   "execution_count": null,
   "id": "6e278985",
   "metadata": {},
   "outputs": [],
   "source": [
    "# Your answer here"
   ]
  },
  {
   "cell_type": "markdown",
   "id": "e5f1a104",
   "metadata": {},
   "source": [
    "Discuss the advantages and disadvantages of dynamic typing in Python."
   ]
  },
  {
   "cell_type": "code",
   "execution_count": null,
   "id": "8e29f1e1",
   "metadata": {},
   "outputs": [],
   "source": [
    "# Your answer here"
   ]
  },
  {
   "cell_type": "markdown",
   "id": "34f76ef5",
   "metadata": {},
   "source": [
    "### Coding Questions:"
   ]
  },
  {
   "cell_type": "markdown",
   "id": "ee01505a",
   "metadata": {},
   "source": [
    "Write a function that accepts arguments of any type and performs a specific operation."
   ]
  },
  {
   "cell_type": "code",
   "execution_count": null,
   "id": "c8034cb2",
   "metadata": {},
   "outputs": [],
   "source": [
    "# Your answer here"
   ]
  },
  {
   "cell_type": "markdown",
   "id": "2144a283",
   "metadata": {},
   "source": [
    "Implement a dynamic typing example where a variable changes its type during runtime."
   ]
  },
  {
   "cell_type": "code",
   "execution_count": null,
   "id": "263571f5",
   "metadata": {},
   "outputs": [],
   "source": [
    "# Your answer here"
   ]
  },
  {
   "cell_type": "markdown",
   "id": "bc2a8a8c",
   "metadata": {},
   "source": [
    "Create a program that dynamically extends a list with elements of different types."
   ]
  },
  {
   "cell_type": "code",
   "execution_count": null,
   "id": "e86ebe69",
   "metadata": {},
   "outputs": [],
   "source": [
    "# Your answer here"
   ]
  }
 ],
 "metadata": {
  "kernelspec": {
   "display_name": "Python 3 (ipykernel)",
   "language": "python",
   "name": "python3"
  },
  "language_info": {
   "codemirror_mode": {
    "name": "ipython",
    "version": 3
   },
   "file_extension": ".py",
   "mimetype": "text/x-python",
   "name": "python",
   "nbconvert_exporter": "python",
   "pygments_lexer": "ipython3",
   "version": "3.11.5"
  }
 },
 "nbformat": 4,
 "nbformat_minor": 5
}
