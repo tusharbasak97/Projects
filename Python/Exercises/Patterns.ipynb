{
 "cells": [
  {
   "cell_type": "markdown",
   "metadata": {},
   "source": [
    "### Patterns"
   ]
  },
  {
   "cell_type": "markdown",
   "metadata": {},
   "source": [
    "#### Print A"
   ]
  },
  {
   "cell_type": "code",
   "execution_count": 1,
   "metadata": {},
   "outputs": [
    {
     "name": "stdout",
     "output_type": "stream",
     "text": [
      " ***** \n",
      "*     *\n",
      "*     *\n",
      "*******\n",
      "*     *\n",
      "*     *\n"
     ]
    }
   ],
   "source": [
    "m,n= 6,7\n",
    "for row in range(m):\n",
    "    for col in range(n):\n",
    "        if ((col == 0 or col == n-1) and row!=0) or ((row==0 or row==int(m/2)) and (col>0 and col< (n-1))):\n",
    "            print('*',end=\"\")\n",
    "        else:\n",
    "            print(' ',end=\"\")\n",
    "    print()"
   ]
  },
  {
   "cell_type": "markdown",
   "metadata": {},
   "source": [
    "#### Print B"
   ]
  },
  {
   "cell_type": "code",
   "execution_count": 2,
   "metadata": {},
   "outputs": [
    {
     "name": "stdout",
     "output_type": "stream",
     "text": [
      "****** \n",
      "*     *\n",
      "*     *\n",
      "*******\n",
      "*     *\n",
      "****** \n"
     ]
    }
   ],
   "source": [
    "m,n= 6,7\n",
    "for row in range(m):\n",
    "    for col in range(n):\n",
    "        if (col == 0 or ((col == n-1) and (row!=0 and row!=m-1))) or ((row==0 or row==int(m/2) or row == (m-1)) and (col>0 and col< (n-1))):\n",
    "            print('*',end=\"\")\n",
    "        else:\n",
    "            print(end=\" \")\n",
    "    print()"
   ]
  },
  {
   "cell_type": "markdown",
   "metadata": {},
   "source": [
    "#### Print C"
   ]
  },
  {
   "cell_type": "code",
   "execution_count": 3,
   "metadata": {},
   "outputs": [
    {
     "name": "stdout",
     "output_type": "stream",
     "text": [
      " ******\n",
      "*      \n",
      "*      \n",
      "*      \n",
      "*      \n",
      " ******\n"
     ]
    }
   ],
   "source": [
    "m,n= 6,7\n",
    "for row in range(m):\n",
    "    for col in range(n):\n",
    "        if (col == 0 and (row!=0 and row!=(m-1))) or ((row==0 or row==(m-1)) and (col!=0)):\n",
    "            print('*',end=\"\")\n",
    "        else:\n",
    "            print(end=\" \")\n",
    "    print()"
   ]
  },
  {
   "cell_type": "markdown",
   "metadata": {},
   "source": [
    "#### print D"
   ]
  },
  {
   "cell_type": "code",
   "execution_count": 4,
   "metadata": {},
   "outputs": [
    {
     "name": "stdout",
     "output_type": "stream",
     "text": [
      "****** \n",
      "*     *\n",
      "*     *\n",
      "*     *\n",
      "*     *\n",
      "****** \n"
     ]
    }
   ],
   "source": [
    "m,n= 6,7\n",
    "for row in range(m):\n",
    "    for col in range(n):\n",
    "        if (col==0) or ((col==n-1) and (row!=0 and row != m-1)) or ((row==0 or row ==m-1) and (col > 0 and col <n-1)):\n",
    "            print('*',end=\"\")\n",
    "        else:\n",
    "            print(end=\" \")\n",
    "    print()"
   ]
  },
  {
   "cell_type": "markdown",
   "metadata": {},
   "source": [
    "#### Print E"
   ]
  },
  {
   "cell_type": "code",
   "execution_count": 5,
   "metadata": {},
   "outputs": [
    {
     "name": "stdout",
     "output_type": "stream",
     "text": [
      "******\n",
      "*     \n",
      "*     \n",
      "******\n",
      "*     \n",
      "*     \n",
      "******\n"
     ]
    }
   ],
   "source": [
    "m,n= 7,6\n",
    "for row in range(m):\n",
    "    for col in range(n):\n",
    "        if (col == 0) or ((row==0 or row==m-1 or row ==int(m/2)) and (col !=0)):\n",
    "            print('*',end=\"\")\n",
    "        else:\n",
    "            print(end=\" \")\n",
    "    print()"
   ]
  },
  {
   "cell_type": "markdown",
   "metadata": {},
   "source": [
    "#### Print F"
   ]
  },
  {
   "cell_type": "code",
   "execution_count": 6,
   "metadata": {},
   "outputs": [
    {
     "name": "stdout",
     "output_type": "stream",
     "text": [
      "******\n",
      "*     \n",
      "*     \n",
      "******\n",
      "*     \n",
      "*     \n",
      "*     \n"
     ]
    }
   ],
   "source": [
    "m,n= 7,6\n",
    "for row in range(m):\n",
    "    for col in range(n):\n",
    "        if (col == 0) or ((row==0 or row ==int(m/2)) and (col !=0)):\n",
    "            print('*',end=\"\")\n",
    "        else:\n",
    "            print(end=\" \")\n",
    "    print()"
   ]
  },
  {
   "cell_type": "markdown",
   "metadata": {},
   "source": [
    "#### Print G"
   ]
  },
  {
   "cell_type": "code",
   "execution_count": 7,
   "metadata": {},
   "outputs": [
    {
     "name": "stdout",
     "output_type": "stream",
     "text": [
      "****** \n",
      "*      \n",
      "*      \n",
      "*  ****\n",
      "*    * \n",
      "****** \n"
     ]
    }
   ],
   "source": [
    "m,n= 6,7\n",
    "for row in range(m):\n",
    "    for col in range(n):\n",
    "        if (col == 0) or ((row==0 or row==m-1) and (col > 0 and col < n-1)) or (row==int(m/2) and (col>=int(n/2)) ) or (col==n-2 and row >= int(m/2)):\n",
    "            print('*',end=\"\")\n",
    "        else:\n",
    "            print(end=\" \")\n",
    "    print()"
   ]
  },
  {
   "cell_type": "markdown",
   "metadata": {},
   "source": [
    "#### Print H"
   ]
  },
  {
   "cell_type": "code",
   "execution_count": 8,
   "metadata": {},
   "outputs": [
    {
     "name": "stdout",
     "output_type": "stream",
     "text": [
      "*     *\n",
      "*     *\n",
      "*******\n",
      "*     *\n",
      "*     *\n"
     ]
    }
   ],
   "source": [
    "m,n= 5,7\n",
    "for row in range(m):\n",
    "    for col in range(n):\n",
    "        if (col == 0 or col==n-1) or ((row==int(m/2)) and (col>0 and col < n-1)):\n",
    "            print('*',end=\"\")\n",
    "        else:\n",
    "            print(end=\" \")\n",
    "    print()"
   ]
  },
  {
   "cell_type": "markdown",
   "metadata": {},
   "source": [
    "#### Print I"
   ]
  },
  {
   "cell_type": "code",
   "execution_count": 9,
   "metadata": {},
   "outputs": [
    {
     "name": "stdout",
     "output_type": "stream",
     "text": [
      "*******\n",
      "   *   \n",
      "   *   \n",
      "   *   \n",
      "   *   \n",
      "*******\n"
     ]
    }
   ],
   "source": [
    "m,n= 6,7\n",
    "for row in range(m):\n",
    "    for col in range(n):\n",
    "        if (row==0 or row==m-1) or ((col==int(n/2)) and (row>0 and row<m-1)):\n",
    "            print('*',end=\"\")\n",
    "        else:\n",
    "            print(end=\" \")\n",
    "    print()"
   ]
  },
  {
   "cell_type": "markdown",
   "metadata": {},
   "source": [
    "#### Print J"
   ]
  },
  {
   "cell_type": "code",
   "execution_count": 10,
   "metadata": {},
   "outputs": [
    {
     "name": "stdout",
     "output_type": "stream",
     "text": [
      "*******\n",
      "   *   \n",
      "   *   \n",
      "   *   \n",
      "   *   \n",
      "****   \n"
     ]
    }
   ],
   "source": [
    "m,n= 6,7\n",
    "for row in range(m):\n",
    "    for col in range(n):\n",
    "        if (row==0 or ((row==m-1) and col < (n/2))) or ((col==int(n/2)) and (row>0 and row<m-1)):\n",
    "            print('*',end=\"\")\n",
    "        else:\n",
    "            print(end=\" \")\n",
    "    print()"
   ]
  },
  {
   "cell_type": "markdown",
   "metadata": {},
   "source": [
    "#### Print K"
   ]
  },
  {
   "cell_type": "code",
   "execution_count": 58,
   "metadata": {},
   "outputs": [
    {
     "name": "stdout",
     "output_type": "stream",
     "text": [
      "*     *     \n",
      "*   *       \n",
      "* *         \n",
      "* *         \n",
      "*   *       \n",
      "*     *     \n"
     ]
    }
   ],
   "source": [
    "def print_pattern(n):\n",
    "    i = 0\n",
    "    j = n//2\n",
    "\n",
    "    for rows in range(n):\n",
    "        for col in range(n):\n",
    "            if col == 0 or (rows == (col+(n//3)) and col > 0):\n",
    "                print(\"*\", end=\" \")\n",
    "            elif rows == i and col == j:\n",
    "                print(\"*\", end=\" \")\n",
    "                i = i+1\n",
    "                j = j-1\n",
    "            else:\n",
    "                print(\" \", end=\" \")\n",
    "        print()\n",
    "\n",
    "size = 6\n",
    "print_pattern(size)"
   ]
  },
  {
   "cell_type": "markdown",
   "metadata": {},
   "source": [
    "#### Print L"
   ]
  },
  {
   "cell_type": "code",
   "execution_count": 12,
   "metadata": {},
   "outputs": [
    {
     "name": "stdout",
     "output_type": "stream",
     "text": [
      "*      \n",
      "*      \n",
      "*      \n",
      "*      \n",
      "*      \n",
      "*******\n"
     ]
    }
   ],
   "source": [
    "m,n= 6,7\n",
    "for row in range(m):\n",
    "    for col in range(n):\n",
    "        if (col == 0) or (row==m-1 and col > 0):\n",
    "            print('*',end=\"\")\n",
    "        else:\n",
    "            print(end=\" \")\n",
    "    print()"
   ]
  },
  {
   "cell_type": "markdown",
   "metadata": {},
   "source": [
    "#### Print M"
   ]
  },
  {
   "cell_type": "code",
   "execution_count": 13,
   "metadata": {},
   "outputs": [
    {
     "name": "stdout",
     "output_type": "stream",
     "text": [
      "*           * \n",
      "* *       * * \n",
      "*   *   *   * \n",
      "*     *     * \n",
      "*           * \n",
      "*           * \n",
      "*           * \n"
     ]
    }
   ],
   "source": [
    "def print_pattern(n):\n",
    "    for row in range(n):\n",
    "        for column in range(n):\n",
    "            if ((column == 0 or column == n-1) or row + column == (n - 1) and row < n/2 or row == column and row < n/2):\n",
    "                print(\"*\", end=\" \")\n",
    "            else:\n",
    "                print(\" \", end=\" \")\n",
    "        print()\n",
    "        \n",
    "size = 7\n",
    "print_pattern(size)"
   ]
  },
  {
   "cell_type": "markdown",
   "metadata": {},
   "source": [
    "#### Print N"
   ]
  },
  {
   "cell_type": "code",
   "execution_count": 56,
   "metadata": {},
   "outputs": [
    {
     "name": "stdout",
     "output_type": "stream",
     "text": [
      "*       * \n",
      "* *     * \n",
      "*   *   * \n",
      "*     * * \n",
      "*       * \n"
     ]
    }
   ],
   "source": [
    "def print_pattern(n):\n",
    "    for row in range(n):\n",
    "        for column in range(n):\n",
    "            # first column\n",
    "            if ((column == 0 or column == n - 1) or row == column):\n",
    "                print(\"*\", end=\" \")\n",
    "            else:\n",
    "                print(\" \", end=\" \")\n",
    "        print()\n",
    "\n",
    "size = 5\n",
    "print_pattern(size)"
   ]
  },
  {
   "cell_type": "markdown",
   "metadata": {},
   "source": [
    "#### Print o"
   ]
  },
  {
   "cell_type": "code",
   "execution_count": 15,
   "metadata": {},
   "outputs": [
    {
     "name": "stdout",
     "output_type": "stream",
     "text": [
      " ***** \n",
      "*     *\n",
      "*     *\n",
      "*     *\n",
      "*     *\n",
      " ***** \n"
     ]
    }
   ],
   "source": [
    "m,n= 6,7\n",
    "for row in range(m):\n",
    "    for col in range(n):\n",
    "        if (col==0 and (row>0 and row <m-1)) or ((col==n-1) and (row!=0 and row != m-1)) or ((row==0 or row ==m-1) and (col > 0 and col <n-1)):\n",
    "            print('*',end=\"\")\n",
    "        else:\n",
    "            print(end=\" \")\n",
    "    print()"
   ]
  },
  {
   "cell_type": "markdown",
   "metadata": {},
   "source": [
    "#### Print P"
   ]
  },
  {
   "cell_type": "code",
   "execution_count": 16,
   "metadata": {},
   "outputs": [
    {
     "name": "stdout",
     "output_type": "stream",
     "text": [
      "****** \n",
      "*     *\n",
      "*     *\n",
      "****** \n",
      "*      \n",
      "*      \n"
     ]
    }
   ],
   "source": [
    "m,n= 6,7\n",
    "for row in range(m):\n",
    "    for col in range(n):\n",
    "        if (col==0) or ((row==0 or row ==(int(m/2))) and (col>0 and col<n-1)) or (col==n-1 and (row>0 and row < int(m/2))):\n",
    "            print('*',end=\"\")\n",
    "        else:\n",
    "            print(end=\" \")\n",
    "    print()"
   ]
  },
  {
   "cell_type": "markdown",
   "metadata": {},
   "source": [
    "#### Print Q"
   ]
  },
  {
   "cell_type": "code",
   "execution_count": 55,
   "metadata": {},
   "outputs": [
    {
     "name": "stdout",
     "output_type": "stream",
     "text": [
      "  * * * * *   \n",
      "*           * \n",
      "*           * \n",
      "*           * \n",
      "*       *   * \n",
      "  * * * * *   \n",
      "            * \n"
     ]
    }
   ],
   "source": [
    "def print_pattern(n):\n",
    "    for row in range(n):\n",
    "        for column in range(n):\n",
    "            if ((row == 0 and (column != 0 and column != n - 1)) or (row == n - 2 and (column != 0 and column < n - 2)) or (column == 0 and (row != 0 and row < n - 2)) or (column == n - 1 and (row != 0 and row != n - 2)) or ((n // 2 < row < n) and (column > n // 2) and (row == column))):\n",
    "                print(\"*\", end=\" \")\n",
    "            else:\n",
    "                print(\" \", end=\" \")\n",
    "        print()\n",
    "\n",
    "size = 7\n",
    "print_pattern(size)"
   ]
  },
  {
   "cell_type": "markdown",
   "metadata": {},
   "source": [
    "#### Print R"
   ]
  },
  {
   "cell_type": "code",
   "execution_count": 18,
   "metadata": {},
   "outputs": [
    {
     "name": "stdout",
     "output_type": "stream",
     "text": [
      "  * * *   \n",
      "*       * \n",
      "* * * *   \n",
      "*     *   \n",
      "*       * \n"
     ]
    }
   ],
   "source": [
    "def print_pattern(n):\n",
    "    for row in range(n):\n",
    "        for column in range(n):\n",
    "            if ((row == 0 and column != 0 and column != n - 1) or (column == 0 and row != 0) or (row == n//2 and column != n-1) or (column == n-1 and row < n//2 and row != 0) or (row == column and row >= n//2)):\n",
    "                print(\"*\", end=\" \")\n",
    "            else:\n",
    "                print(\" \", end=\" \")\n",
    "        print()\n",
    "\n",
    "size = 5\n",
    "print_pattern(size)"
   ]
  },
  {
   "cell_type": "markdown",
   "metadata": {},
   "source": [
    "#### Print S"
   ]
  },
  {
   "cell_type": "code",
   "execution_count": 19,
   "metadata": {},
   "outputs": [
    {
     "name": "stdout",
     "output_type": "stream",
     "text": [
      "  * * * *   \n",
      "*           \n",
      "*           \n",
      "  * * * *   \n",
      "          * \n",
      "  * * * *   \n"
     ]
    }
   ],
   "source": [
    "def print_pattern(n):\n",
    "    for row in range(n):\n",
    "        for column in range(n):\n",
    "            if ((row == 0 and column != 0 and column != n - 1) or (column == 0 and row != 0 and row < n//2) or (row == n//2 and column != n-1 and column != 0) or (column == n-1 and row > n//2 and row != n-1) or (row == n-1 and column != 0 and column != n - 1)):\n",
    "                print(\"*\", end=\" \")\n",
    "            else:\n",
    "                print(\" \", end=\" \")\n",
    "        print()\n",
    "\n",
    "\n",
    "size = 6\n",
    "print_pattern(size)"
   ]
  },
  {
   "cell_type": "markdown",
   "metadata": {},
   "source": [
    "#### Print T"
   ]
  },
  {
   "cell_type": "code",
   "execution_count": 20,
   "metadata": {},
   "outputs": [
    {
     "name": "stdout",
     "output_type": "stream",
     "text": [
      "*******\n",
      "   *   \n",
      "   *   \n",
      "   *   \n",
      "   *   \n",
      "       \n"
     ]
    }
   ],
   "source": [
    "m,n= 6,7\n",
    "for row in range(m):\n",
    "    for col in range(n):\n",
    "        if (row==0) or ((col==int(n/2)) and (row>0 and row<m-1)):\n",
    "            print('*',end=\"\")\n",
    "        else:\n",
    "            print(end=\" \")\n",
    "    print()"
   ]
  },
  {
   "cell_type": "markdown",
   "metadata": {},
   "source": [
    "#### Print U"
   ]
  },
  {
   "cell_type": "code",
   "execution_count": 21,
   "metadata": {},
   "outputs": [
    {
     "name": "stdout",
     "output_type": "stream",
     "text": [
      "*     *\n",
      "*     *\n",
      "*     *\n",
      "*     *\n",
      "*     *\n",
      " ***** \n"
     ]
    }
   ],
   "source": [
    "m,n= 6,7\n",
    "for row in range(m):\n",
    "    for col in range(n):\n",
    "        if ((col==0 or col ==n-1) and (row!=m-1) ) or (row==m-1 and (col>0 and col <n-1)) :\n",
    "            print('*',end=\"\") \n",
    "        else:\n",
    "            print(end=\" \")\n",
    "    print()"
   ]
  },
  {
   "cell_type": "markdown",
   "metadata": {},
   "source": [
    "#### Print V"
   ]
  },
  {
   "cell_type": "code",
   "execution_count": 22,
   "metadata": {},
   "outputs": [
    {
     "name": "stdout",
     "output_type": "stream",
     "text": [
      "*       *\n",
      " *     *\n",
      "  *   *\n",
      "   * *\n",
      "    *\n"
     ]
    }
   ],
   "source": [
    "def pattern(n):\n",
    "    for i in range(n - 1, -1, -1):\n",
    "        for j in range(n - 1, i, -1):\n",
    "            print(' ', end='')\n",
    "        print('*', end='')\n",
    "\n",
    "        for j in range(1, i * 2):\n",
    "            print(' ', end='')\n",
    "\n",
    "        if i >= 1:\n",
    "            print('*', end='')\n",
    "        print()\n",
    "\n",
    "n = 5\n",
    "pattern(n)"
   ]
  },
  {
   "cell_type": "markdown",
   "metadata": {},
   "source": [
    "#### Print W"
   ]
  },
  {
   "cell_type": "code",
   "execution_count": 23,
   "metadata": {},
   "outputs": [
    {
     "name": "stdout",
     "output_type": "stream",
     "text": [
      "*       * \n",
      "*       * \n",
      "*   *   * \n",
      "* *   * * \n",
      "*       * \n"
     ]
    }
   ],
   "source": [
    "def print_pattern(n):\n",
    "    for row in range(n):\n",
    "        for column in range(n):\n",
    "            if((column == 0) or (column == n-1) or (row+column == n-1 and row >= n//2) or (row == column and row >= n//2)\n",
    "            ):\n",
    "                print(\"*\", end=\" \")\n",
    "            else:\n",
    "                print(\" \", end=\" \")\n",
    "        print()\n",
    "        \n",
    "size = 5\n",
    "print_pattern(size)"
   ]
  },
  {
   "cell_type": "markdown",
   "metadata": {},
   "source": [
    "#### Print X"
   ]
  },
  {
   "cell_type": "code",
   "execution_count": 24,
   "metadata": {},
   "outputs": [
    {
     "name": "stdout",
     "output_type": "stream",
     "text": [
      "*       * \n",
      "  *   *   \n",
      "    *     \n",
      "  *   *   \n",
      "*       * \n"
     ]
    }
   ],
   "source": [
    "def print_pattern():\n",
    "    size = 5\n",
    "    for i in range(size):\n",
    "        for j in range(size):\n",
    "            if j == i or j == size - i - 1:\n",
    "                print(\"*\", end=\" \")\n",
    "            else:\n",
    "                print(\" \", end=\" \")\n",
    "        print()\n",
    "\n",
    "print_pattern()"
   ]
  },
  {
   "cell_type": "markdown",
   "metadata": {},
   "source": [
    "#### Print Y"
   ]
  },
  {
   "cell_type": "code",
   "execution_count": 25,
   "metadata": {},
   "outputs": [
    {
     "name": "stdout",
     "output_type": "stream",
     "text": [
      "*        *  \n",
      "  *    *    \n",
      "    *      \n",
      "  *        \n",
      "*          \n"
     ]
    }
   ],
   "source": [
    "def print_pattern(n):\n",
    "    for row in range(n):\n",
    "        for column in range(n):\n",
    "            if((row + column == n-1) or (row == column and row < n/2)):\n",
    "                print(\"* \", end=\" \")\n",
    "            else:\n",
    "                print(\" \", end=\" \")\n",
    "        print()\n",
    "\n",
    "size = 5\n",
    "print_pattern(size)"
   ]
  },
  {
   "cell_type": "markdown",
   "metadata": {},
   "source": [
    "#### Print Z"
   ]
  },
  {
   "cell_type": "code",
   "execution_count": 26,
   "metadata": {},
   "outputs": [
    {
     "name": "stdout",
     "output_type": "stream",
     "text": [
      "* * * * * \n",
      "      *   \n",
      "    *     \n",
      "  *       \n",
      "* * * * * \n"
     ]
    }
   ],
   "source": [
    "def print_pattern(n):\n",
    "    for row in range(n):\n",
    "        for column in range(n):\n",
    "            if((row == 0) or (row == n-1) or (row+column == n-1)):\n",
    "                print(\"*\", end=\" \")\n",
    "            else:\n",
    "                print(\" \", end=\" \")\n",
    "        print()\n",
    "\n",
    "\n",
    "size = 5\n",
    "print_pattern(size)"
   ]
  },
  {
   "cell_type": "markdown",
   "metadata": {},
   "source": [
    "#### Some Interesting Patterns"
   ]
  },
  {
   "cell_type": "code",
   "execution_count": 27,
   "metadata": {},
   "outputs": [
    {
     "name": "stdout",
     "output_type": "stream",
     "text": [
      "1\n",
      "22\n",
      "333\n",
      "4444\n",
      "55555\n"
     ]
    }
   ],
   "source": [
    "n = 5\n",
    "for i in range(n): \n",
    "    for j in range(i+1):\n",
    "        print(i+1,end='')\n",
    "    print()"
   ]
  },
  {
   "cell_type": "code",
   "execution_count": 28,
   "metadata": {},
   "outputs": [
    {
     "name": "stdout",
     "output_type": "stream",
     "text": [
      "11111\n",
      "2222\n",
      "333\n",
      "44\n",
      "5\n"
     ]
    }
   ],
   "source": [
    "n = 5\n",
    "for i in range(n):\n",
    "    for j in range(n-i):\n",
    "        print(i+1,end='')\n",
    "    print()"
   ]
  },
  {
   "cell_type": "code",
   "execution_count": 29,
   "metadata": {},
   "outputs": [
    {
     "name": "stdout",
     "output_type": "stream",
     "text": [
      "1\n",
      "12\n",
      "123\n",
      "1234\n",
      "12345\n"
     ]
    }
   ],
   "source": [
    "n = 5\n",
    "for i in range(1,n+1):\n",
    "    for j in range(i):\n",
    "        print(j+1,end='')\n",
    "    print()"
   ]
  },
  {
   "cell_type": "code",
   "execution_count": 30,
   "metadata": {},
   "outputs": [
    {
     "name": "stdout",
     "output_type": "stream",
     "text": [
      "55555\n",
      "4444\n",
      "333\n",
      "22\n",
      "1\n"
     ]
    }
   ],
   "source": [
    "n = 5\n",
    "for i in range(n):\n",
    "    for j in range(n-i):\n",
    "        print(n-i,end='')\n",
    "    print()"
   ]
  },
  {
   "cell_type": "code",
   "execution_count": 31,
   "metadata": {},
   "outputs": [
    {
     "name": "stdout",
     "output_type": "stream",
     "text": [
      "55555\n",
      "5555\n",
      "555\n",
      "55\n",
      "5\n"
     ]
    }
   ],
   "source": [
    "n = 5\n",
    "for i in range(n):\n",
    "    for j in range(n-i):\n",
    "        print(n,end='')\n",
    "    print()"
   ]
  },
  {
   "cell_type": "code",
   "execution_count": 32,
   "metadata": {},
   "outputs": [
    {
     "name": "stdout",
     "output_type": "stream",
     "text": [
      "1\n",
      "21\n",
      "321\n",
      "4321\n",
      "54321\n"
     ]
    }
   ],
   "source": [
    "n = 5\n",
    "for i in range(n):\n",
    "    for j in range(i+1,0,-1):\n",
    "        print(j,end='')\n",
    "    print()"
   ]
  },
  {
   "cell_type": "code",
   "execution_count": 33,
   "metadata": {},
   "outputs": [
    {
     "name": "stdout",
     "output_type": "stream",
     "text": [
      "54321\n",
      "4321\n",
      "321\n",
      "21\n",
      "1\n"
     ]
    }
   ],
   "source": [
    "n = 5\n",
    "for i in range(n):\n",
    "    for j in range(n-i,0,-1):\n",
    "        print(j,end='')\n",
    "    print()"
   ]
  },
  {
   "cell_type": "code",
   "execution_count": 34,
   "metadata": {},
   "outputs": [
    {
     "name": "stdout",
     "output_type": "stream",
     "text": [
      "01234\n",
      "0123\n",
      "012\n",
      "01\n",
      "0\n"
     ]
    }
   ],
   "source": [
    "n = 5\n",
    "for i in range(n):\n",
    "    for j in range(n-i): \n",
    "        print(j,end='')\n",
    "    print()"
   ]
  },
  {
   "cell_type": "code",
   "execution_count": 35,
   "metadata": {},
   "outputs": [
    {
     "name": "stdout",
     "output_type": "stream",
     "text": [
      "1\n",
      "234\n",
      "56789\n"
     ]
    }
   ],
   "source": [
    "# Inverted half Pyramid of Numbers\n",
    "start = 1\n",
    "stop =  2\n",
    "rows = 3\n",
    "cnt=1\n",
    "for i in range(rows):\n",
    "    for j in range(1,stop):\n",
    "        print(start,end='')\n",
    "        start+=1\n",
    "    stop+=2\n",
    "    print()"
   ]
  },
  {
   "cell_type": "code",
   "execution_count": 36,
   "metadata": {},
   "outputs": [
    {
     "name": "stdout",
     "output_type": "stream",
     "text": [
      "1\n",
      "121\n",
      "12321\n",
      "1234321\n",
      "123454321\n"
     ]
    }
   ],
   "source": [
    "n = 5\n",
    "for i in range(n):\n",
    "    for j in range(i):\n",
    "        print(j+1,end='')\n",
    "    for j in range(i+1,0,-1):\n",
    "        print(j,end='')\n",
    "    print()"
   ]
  },
  {
   "cell_type": "code",
   "execution_count": 37,
   "metadata": {},
   "outputs": [
    {
     "name": "stdout",
     "output_type": "stream",
     "text": [
      "sa \n",
      "sa re sa \n",
      "sa re ga re sa \n",
      "sa re ga ma ga re sa \n",
      "sa re ga ma pa ma ga re sa \n"
     ]
    }
   ],
   "source": [
    "n = 5\n",
    "music = ['sa' , 're' , 'ga', 'ma', 'pa' , 'dha' , 'ni', 'sa' ] \n",
    "if n > len(music):\n",
    "    print('Invalid Input')\n",
    "else:\n",
    "    for i in range(n):\n",
    "        for j in range(i+1):\n",
    "            print(music[j]+' ',end='') \n",
    "        for j in range(i-1,-1,-1):\n",
    "            print(music[j]+' ',end='')\n",
    "        print()"
   ]
  },
  {
   "cell_type": "code",
   "execution_count": 38,
   "metadata": {},
   "outputs": [
    {
     "name": "stdout",
     "output_type": "stream",
     "text": [
      "5432112345\n",
      "54322345\n",
      "543345\n",
      "5445\n",
      "55\n"
     ]
    }
   ],
   "source": [
    "n = 5\n",
    "for i in range(n):\n",
    "    for j in range(n,i,-1):\n",
    "        print(j,end='')\n",
    "    for j in range(i,n):\n",
    "        print(j+1,end='')\n",
    "    print()"
   ]
  },
  {
   "cell_type": "code",
   "execution_count": 39,
   "metadata": {},
   "outputs": [
    {
     "name": "stdout",
     "output_type": "stream",
     "text": [
      "     1\n",
      "    12\n",
      "   123\n",
      "  1234\n",
      " 12345\n"
     ]
    }
   ],
   "source": [
    "n = 5\n",
    "for i in range(n):\n",
    "    for j in range(n-i): \n",
    "        print(end=' ')    \n",
    "    for j in range(i+1): \n",
    "        print(j+1,end='')\n",
    "    print()"
   ]
  },
  {
   "cell_type": "code",
   "execution_count": 40,
   "metadata": {},
   "outputs": [
    {
     "name": "stdout",
     "output_type": "stream",
     "text": [
      "     11\n",
      "    1212\n",
      "   123123\n",
      "  12341234\n",
      " 1234512345\n"
     ]
    }
   ],
   "source": [
    "n = 5\n",
    "for i in range(n):\n",
    "    for j in range(n-i): \n",
    "        print(end=' ')    \n",
    "    for j in range(i+1): \n",
    "        print(j+1,end='')\n",
    "    for j in range(i+1):\n",
    "        print(j+1,end='')\n",
    "    print()"
   ]
  },
  {
   "cell_type": "code",
   "execution_count": 41,
   "metadata": {},
   "outputs": [
    {
     "name": "stdout",
     "output_type": "stream",
     "text": [
      "     11\n",
      "    1221\n",
      "   123321\n",
      "  12344321\n",
      " 1234554321\n"
     ]
    }
   ],
   "source": [
    "n = 5\n",
    "for i in range(n):\n",
    "    for j in range(n-i): \n",
    "        print(end=' ')    \n",
    "    for j in range(i+1): \n",
    "        print(j+1,end='')\n",
    "    for j in range(i+1,0,-1):\n",
    "        print(j,end='')\n",
    "    print()"
   ]
  },
  {
   "cell_type": "code",
   "execution_count": 42,
   "metadata": {},
   "outputs": [
    {
     "name": "stdout",
     "output_type": "stream",
     "text": [
      "     1\n",
      "    121\n",
      "   12321\n",
      "  1234321\n",
      " 123454321\n"
     ]
    }
   ],
   "source": [
    "n = 5\n",
    "for i in range(n):\n",
    "    for j in range(n-i): \n",
    "        print(end=' ')    \n",
    "    for j in range(i): \n",
    "        print(j+1,end='')\n",
    "    for j in range(i+1,0,-1):\n",
    "        print(j,end='')\n",
    "    print()"
   ]
  },
  {
   "cell_type": "code",
   "execution_count": 43,
   "metadata": {},
   "outputs": [
    {
     "name": "stdout",
     "output_type": "stream",
     "text": [
      "     1\n",
      "    121\n",
      "   12321\n",
      "  1234321\n",
      " 123454321\n",
      " 123454321\n",
      "  1234321\n",
      "   12321\n",
      "    121\n",
      "     1\n"
     ]
    }
   ],
   "source": [
    "n = 5\n",
    "for i in range(n):\n",
    "    for j in range(n-i): \n",
    "        print(end=' ')    \n",
    "    for j in range(i): \n",
    "        print(j+1,end='')\n",
    "    for j in range(i+1,0,-1):\n",
    "        print(j,end='')\n",
    "    print()\n",
    "for i in range(n):\n",
    "    for j in range(i+1): \n",
    "        print(end=' ')\n",
    "    for j in range(1,n-i): \n",
    "        print(j,end='')    \n",
    "    for j in range(n-i,0,-1):\n",
    "        print(j,end='')\n",
    "    print()"
   ]
  },
  {
   "cell_type": "code",
   "execution_count": 44,
   "metadata": {},
   "outputs": [
    {
     "name": "stdout",
     "output_type": "stream",
     "text": [
      "* \n",
      "* * \n",
      "* * * \n",
      "* * * * \n",
      "* * * * * \n"
     ]
    }
   ],
   "source": [
    "n = 5\n",
    "for i in range(n):\n",
    "    print('* '*(i+1))"
   ]
  },
  {
   "cell_type": "code",
   "execution_count": 45,
   "metadata": {},
   "outputs": [
    {
     "name": "stdout",
     "output_type": "stream",
     "text": [
      "     *\n",
      "    ***\n",
      "   *****\n",
      "  *******\n",
      " *********\n"
     ]
    }
   ],
   "source": [
    "n = 5\n",
    "for i in range(n):\n",
    "    for j in range(n-i): \n",
    "        print(end=' ')    \n",
    "    for j in range(i): \n",
    "        print('*',end='')\n",
    "    for j in range(i+1,0,-1):\n",
    "        print('*',end='')\n",
    "    print()"
   ]
  },
  {
   "cell_type": "code",
   "execution_count": 46,
   "metadata": {},
   "outputs": [
    {
     "name": "stdout",
     "output_type": "stream",
     "text": [
      "     * \n",
      "    * * \n",
      "   * * * \n",
      "  * * * * \n",
      " * * * * * \n"
     ]
    }
   ],
   "source": [
    "n = 5\n",
    "for i in range(n):\n",
    "    for j in range(n-i):\n",
    "        print(' ',end='')\n",
    "    for j in range(i+1):\n",
    "        print('* ',end='')\n",
    "    print()"
   ]
  },
  {
   "cell_type": "code",
   "execution_count": 47,
   "metadata": {},
   "outputs": [
    {
     "name": "stdout",
     "output_type": "stream",
     "text": [
      "    * \n",
      "   * * \n",
      "  * * * \n",
      " * * * * \n",
      "* * * * * \n"
     ]
    }
   ],
   "source": [
    "n = 5\n",
    "for i in range(n):\n",
    "    print(' '*(n-i-1)+'* '*(i+1))"
   ]
  },
  {
   "cell_type": "code",
   "execution_count": 48,
   "metadata": {},
   "outputs": [
    {
     "name": "stdout",
     "output_type": "stream",
     "text": [
      "* * * * * \n",
      " * * * * \n",
      "  * * * \n",
      "   * * \n",
      "    * \n"
     ]
    }
   ],
   "source": [
    "n = 5\n",
    "for i in range(n):\n",
    "    for j in range(i):\n",
    "        print(' ',end='')\n",
    "    for j in range(n-i): \n",
    "        print('* ',end='')\n",
    "    print()"
   ]
  },
  {
   "cell_type": "code",
   "execution_count": 49,
   "metadata": {},
   "outputs": [
    {
     "name": "stdout",
     "output_type": "stream",
     "text": [
      "* * * * * \n",
      " * * * * \n",
      "  * * * \n",
      "   * * \n",
      "    * \n"
     ]
    }
   ],
   "source": [
    "n = 5\n",
    "for i in range(n,0,-1):\n",
    "    print(' '*(n-i)+'* '*(i))"
   ]
  },
  {
   "cell_type": "code",
   "execution_count": 50,
   "metadata": {},
   "outputs": [
    {
     "name": "stdout",
     "output_type": "stream",
     "text": [
      "    * \n",
      "   * * \n",
      "  * * * \n",
      " * * * * \n",
      "* * * * * \n",
      " * * * * \n",
      "  * * * \n",
      "   * * \n",
      "    * \n",
      "     \n"
     ]
    }
   ],
   "source": [
    "n = 5\n",
    "for i in range(1,n+1):\n",
    "    for j in range(n-i):\n",
    "        print(' ',end='')\n",
    "    for j in range(i):\n",
    "        print('* ',end='')       \n",
    "    print()\n",
    "for i in range(n):\n",
    "    for j in range(i+1):\n",
    "        print(' ',end='')\n",
    "    for j in range(n-i-1): \n",
    "        print('* ',end='')\n",
    "    print() "
   ]
  },
  {
   "cell_type": "code",
   "execution_count": 51,
   "metadata": {},
   "outputs": [
    {
     "name": "stdout",
     "output_type": "stream",
     "text": [
      "    * \n",
      "   * * \n",
      "  * * * \n",
      " * * * * \n",
      "* * * * * \n",
      " * * * * \n",
      "  * * * \n",
      "   * * \n",
      "    * \n"
     ]
    }
   ],
   "source": [
    "n = 5\n",
    "for i in range(n):\n",
    "    print(' '*(n-i-1)+'* '*(i+1))\n",
    "for j in range(n-1,0,-1):\n",
    "    print(' '*(n-j)+'* '*(j))"
   ]
  },
  {
   "cell_type": "code",
   "execution_count": 52,
   "metadata": {},
   "outputs": [
    {
     "name": "stdout",
     "output_type": "stream",
     "text": [
      "--------e--------\n",
      "------e-d-e------\n",
      "----e-d-c-d-e----\n",
      "--e-d-c-b-c-d-e--\n",
      "e-d-c-b-a-b-c-d-e\n",
      "--e-d-c-b-c-d-e--\n",
      "----e-d-c-d-e----\n",
      "------e-d-e------\n",
      "--------e--------\n"
     ]
    }
   ],
   "source": [
    "n = 5\n",
    "import string\n",
    "from collections import defaultdict\n",
    "letters = string.ascii_lowercase\n",
    "index_dict = defaultdict(list)\n",
    "index_dict1 = defaultdict(list)\n",
    "mid = int((n*4-3)/2)\n",
    "count=0\n",
    "rows, cols = (n*2-1,n*4-3) \n",
    "dlist = [[-1 for i in range(cols)] for j in range(rows)]\n",
    "for i in range(1,n+1):\n",
    "    for j in range(mid,-mid-1,-2):\n",
    "        index_dict[letters[n-i]].append(abs(j))\n",
    "        \n",
    "    for j in range(mid,mid*2+1,2):  \n",
    "        index_dict1[letters[n-i]].append(j)\n",
    "        if j == mid*2:\n",
    "            for k in range(2,mid+2,2):\n",
    "                index_dict1[letters[n-i]].append(j-k)    \n",
    "    if i > 1:\n",
    "        count = count+2 \n",
    "        for m in range(1,count+1):\n",
    "            index_dict[letters[n-i]][n-i+m]='-' \n",
    "            index_dict1[letters[n-i]][n-i+m]='-'\n",
    "        for j in range(0,count):\n",
    "            index_dict[letters[n-i]].remove('-')\n",
    "            index_dict1[letters[n-i]].remove('-')\n",
    "            \n",
    "for i in range(0,n):\n",
    "    for j in range(i,n*2-1-i):\n",
    "        dlist[j][index_dict[letters[n-i-1]][j-i]]=letters[n-i-1]\n",
    "        dlist[j][index_dict1[letters[n-i-1]][j-i]]=letters[n-i-1]\n",
    "        \n",
    "for j in range(n*2-1):\n",
    "    print(''.join(list(str(i) if str(i).isalpha() else '-' for i in dlist[j]))) "
   ]
  },
  {
   "cell_type": "code",
   "execution_count": 53,
   "metadata": {},
   "outputs": [
    {
     "name": "stdout",
     "output_type": "stream",
     "text": [
      "     e\n",
      "    ede\n",
      "   edcde\n",
      "  edcbcde\n",
      " edcbabcde\n",
      " edcbabcde\n",
      "  edcbcde\n",
      "   edcde\n",
      "    ede\n",
      "     e\n"
     ]
    }
   ],
   "source": [
    "n = 5\n",
    "import string\n",
    "letters = string.ascii_lowercase\n",
    "letters=letters[n-1::-1]\n",
    "for i in range(n):\n",
    "    for j in range(n-i): \n",
    "        print(end=' ')    \n",
    "    for j in range(i): \n",
    "        print(letters[j],end='') \n",
    "    for j in range(i+1,0,-1):\n",
    "        print(letters[j-1],end='')\n",
    "    print()\n",
    "for i in range(n):\n",
    "    for j in range(i+1): \n",
    "        print(end=' ')\n",
    "    for j in range(1,n-i):  \n",
    "        print(letters[j-1],end='')    \n",
    "    for j in range(n-i,0,-1):\n",
    "        print(letters[j-1],end='')\n",
    "    print()"
   ]
  },
  {
   "cell_type": "code",
   "execution_count": 54,
   "metadata": {},
   "outputs": [
    {
     "name": "stdout",
     "output_type": "stream",
     "text": [
      "555555555\n",
      "544444445\n",
      "543333345\n",
      "543222345\n",
      "543212345\n",
      "543222345\n",
      "543333345\n",
      "544444445\n",
      "555555555\n"
     ]
    }
   ],
   "source": [
    "n=5\n",
    "ans=[[1]]\n",
    "for i in range(2, n+1):\n",
    "    t=[i]*((2*i)-3)\n",
    "    ans.insert(0, t)\n",
    "    ans.append(t.copy())\n",
    "    for a in ans:\n",
    "        a.insert(0,i)\n",
    "        a.append(i)\n",
    "ans_final=[]\n",
    "for a in ans:\n",
    "    ans_final.append(str(a).replace(' ','').replace(',','').replace(']','').replace('[',''))\n",
    "for a in ans_final:\n",
    "    print(a)"
   ]
  },
  {
   "cell_type": "markdown",
   "metadata": {},
   "source": [
    "### End"
   ]
  }
 ],
 "metadata": {
  "kernelspec": {
   "display_name": "Python 3 (ipykernel)",
   "language": "python",
   "name": "python3"
  },
  "language_info": {
   "codemirror_mode": {
    "name": "ipython",
    "version": 3
   },
   "file_extension": ".py",
   "mimetype": "text/x-python",
   "name": "python",
   "nbconvert_exporter": "python",
   "pygments_lexer": "ipython3",
   "version": "3.11.5"
  },
  "varInspector": {
   "cols": {
    "lenName": 16,
    "lenType": 16,
    "lenVar": 40
   },
   "kernels_config": {
    "python": {
     "delete_cmd_postfix": "",
     "delete_cmd_prefix": "del ",
     "library": "var_list.py",
     "varRefreshCmd": "print(var_dic_list())"
    },
    "r": {
     "delete_cmd_postfix": ") ",
     "delete_cmd_prefix": "rm(",
     "library": "var_list.r",
     "varRefreshCmd": "cat(var_dic_list()) "
    }
   },
   "types_to_exclude": [
    "module",
    "function",
    "builtin_function_or_method",
    "instance",
    "_Feature"
   ],
   "window_display": false
  }
 },
 "nbformat": 4,
 "nbformat_minor": 4
}
