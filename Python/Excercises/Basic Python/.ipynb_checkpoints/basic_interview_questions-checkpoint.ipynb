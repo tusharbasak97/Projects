{
 "cells": [
  {
   "cell_type": "markdown",
   "id": "753b367c",
   "metadata": {},
   "source": [
    "# Python Interview Practice Questions"
   ]
  },
  {
   "cell_type": "markdown",
   "id": "c1bed350",
   "metadata": {},
   "source": [
    "## Strings and Lists"
   ]
  },
  {
   "cell_type": "markdown",
   "id": "3d73f661",
   "metadata": {},
   "source": [
    "### 1. Create a function to reverse a string."
   ]
  },
  {
   "cell_type": "code",
   "execution_count": null,
   "id": "a9e1f472",
   "metadata": {},
   "outputs": [],
   "source": [
    "# Your answer here"
   ]
  },
  {
   "cell_type": "markdown",
   "id": "5fdbb3ef",
   "metadata": {},
   "source": [
    "### 2. Write a program to check if a given word is a palindrome."
   ]
  },
  {
   "cell_type": "code",
   "execution_count": null,
   "id": "ec7f8650",
   "metadata": {},
   "outputs": [],
   "source": [
    "# Your answer here"
   ]
  },
  {
   "cell_type": "markdown",
   "id": "91d96032",
   "metadata": {},
   "source": [
    "### 3. Given a list of numbers, find and print the maximum and minimum values."
   ]
  },
  {
   "cell_type": "code",
   "execution_count": null,
   "id": "08ee978b",
   "metadata": {},
   "outputs": [],
   "source": [
    "# Your answer here"
   ]
  },
  {
   "cell_type": "markdown",
   "id": "a7991c7a",
   "metadata": {},
   "source": [
    "## Control Flow"
   ]
  },
  {
   "cell_type": "markdown",
   "id": "e01db721",
   "metadata": {},
   "source": [
    "### 1. Write a function to check if a number is prime."
   ]
  },
  {
   "cell_type": "code",
   "execution_count": null,
   "id": "8c985856",
   "metadata": {},
   "outputs": [],
   "source": [
    "# Your answer here"
   ]
  },
  {
   "cell_type": "markdown",
   "id": "b7b7e0da",
   "metadata": {},
   "source": [
    "### 2. Implement a function to find the factorial of a number using recursion."
   ]
  },
  {
   "cell_type": "code",
   "execution_count": null,
   "id": "a43fd923",
   "metadata": {},
   "outputs": [],
   "source": [
    "# Your answer here"
   ]
  },
  {
   "cell_type": "markdown",
   "id": "57a57f4f",
   "metadata": {},
   "source": [
    "### 3. Create a program that prints the Fibonacci sequence up to a certain limit."
   ]
  },
  {
   "cell_type": "code",
   "execution_count": null,
   "id": "11ecb4c4",
   "metadata": {},
   "outputs": [],
   "source": [
    "# Your answer here"
   ]
  },
  {
   "cell_type": "markdown",
   "id": "a874c0b6",
   "metadata": {},
   "source": [
    "## Data Structures"
   ]
  },
  {
   "cell_type": "markdown",
   "id": "2fb215a5",
   "metadata": {},
   "source": [
    "### 1. Implement a stack using a Python list."
   ]
  },
  {
   "cell_type": "code",
   "execution_count": null,
   "id": "b33be544",
   "metadata": {},
   "outputs": [],
   "source": [
    "# Your answer here"
   ]
  },
  {
   "cell_type": "markdown",
   "id": "f65de021",
   "metadata": {},
   "source": [
    "### 2. Write a function to check if a given string has balanced parentheses."
   ]
  },
  {
   "cell_type": "code",
   "execution_count": null,
   "id": "9771736a",
   "metadata": {},
   "outputs": [],
   "source": [
    "# Your answer here"
   ]
  },
  {
   "cell_type": "markdown",
   "id": "98e9e4be",
   "metadata": {},
   "source": [
    "### 3. Create a dictionary and demonstrate how to iterate over its keys and values."
   ]
  },
  {
   "cell_type": "code",
   "execution_count": null,
   "id": "fa361e4d",
   "metadata": {},
   "outputs": [],
   "source": [
    "# Your answer here"
   ]
  },
  {
   "cell_type": "markdown",
   "id": "075c0172",
   "metadata": {},
   "source": [
    "## Functions and Modules"
   ]
  },
  {
   "cell_type": "markdown",
   "id": "3f06e961",
   "metadata": {},
   "source": [
    "### 1. Define a function that takes two parameters and returns their sum."
   ]
  },
  {
   "cell_type": "code",
   "execution_count": null,
   "id": "3dae67c8",
   "metadata": {},
   "outputs": [],
   "source": [
    "# Your answer here"
   ]
  },
  {
   "cell_type": "markdown",
   "id": "54d4d649",
   "metadata": {},
   "source": [
    "### 2. Create a module named `calculator` with functions for addition, subtraction, multiplication, and division."
   ]
  },
  {
   "cell_type": "code",
   "execution_count": null,
   "id": "313e25c7",
   "metadata": {},
   "outputs": [],
   "source": [
    "# Your answer here"
   ]
  },
  {
   "cell_type": "markdown",
   "id": "711ff916",
   "metadata": {},
   "source": [
    "## File Handling"
   ]
  },
  {
   "cell_type": "markdown",
   "id": "4c836f01",
   "metadata": {},
   "source": [
    "### 1. Write a script that reads a file, counts the number of lines, and prints the result."
   ]
  },
  {
   "cell_type": "code",
   "execution_count": null,
   "id": "aa07a38e",
   "metadata": {},
   "outputs": [],
   "source": [
    "# Your answer here"
   ]
  },
  {
   "cell_type": "markdown",
   "id": "7166dfa7",
   "metadata": {},
   "source": [
    "### 2. Create a CSV file with some data and write a Python program to read and print its content."
   ]
  },
  {
   "cell_type": "code",
   "execution_count": null,
   "id": "b1307f2d",
   "metadata": {},
   "outputs": [],
   "source": [
    "# Your answer here"
   ]
  },
  {
   "cell_type": "markdown",
   "id": "14f2dc96",
   "metadata": {},
   "source": [
    "## Exception Handling"
   ]
  },
  {
   "cell_type": "markdown",
   "id": "38c0f034",
   "metadata": {},
   "source": [
    "### 1. Write a function that handles a division by zero exception and prints a meaningful message."
   ]
  },
  {
   "cell_type": "code",
   "execution_count": null,
   "id": "c6e0241c",
   "metadata": {},
   "outputs": [],
   "source": [
    "# Your answer here"
   ]
  },
  {
   "cell_type": "markdown",
   "id": "1f079a37",
   "metadata": {},
   "source": [
    "### 2. Create a program that prompts the user for input and handles invalid inputs using try-except blocks."
   ]
  },
  {
   "cell_type": "code",
   "execution_count": null,
   "id": "e280c768",
   "metadata": {},
   "outputs": [],
   "source": [
    "# Your answer here"
   ]
  },
  {
   "cell_type": "markdown",
   "id": "327b3c73",
   "metadata": {},
   "source": [
    "## Classes and OOP"
   ]
  },
  {
   "cell_type": "markdown",
   "id": "51835be7",
   "metadata": {},
   "source": [
    "### 1. Define a class `Car` with attributes `model` and `year`, and a method `display_info` that prints the car's information."
   ]
  },
  {
   "cell_type": "code",
   "execution_count": null,
   "id": "485ad246",
   "metadata": {},
   "outputs": [],
   "source": [
    "# Your answer here"
   ]
  },
  {
   "cell_type": "markdown",
   "id": "05f68728",
   "metadata": {},
   "source": [
    "### 2. Create a subclass `ElectricCar` that inherits from `Car` and adds a method to display battery information."
   ]
  },
  {
   "cell_type": "code",
   "execution_count": null,
   "id": "e66f766d",
   "metadata": {},
   "outputs": [],
   "source": [
    "# Your answer here"
   ]
  },
  {
   "cell_type": "markdown",
   "id": "489731bb",
   "metadata": {},
   "source": [
    "## List Comprehensions"
   ]
  },
  {
   "cell_type": "markdown",
   "id": "466375cb",
   "metadata": {},
   "source": [
    "### 1. Use a list comprehension to create a list of squares of numbers from 1 to 10."
   ]
  },
  {
   "cell_type": "code",
   "execution_count": null,
   "id": "9e007c80",
   "metadata": {},
   "outputs": [],
   "source": [
    "# Your answer here"
   ]
  },
  {
   "cell_type": "markdown",
   "id": "10d71312",
   "metadata": {},
   "source": [
    "### 2. Write a program to filter out even numbers from a given list using list comprehension."
   ]
  },
  {
   "cell_type": "code",
   "execution_count": null,
   "id": "47ad631c",
   "metadata": {},
   "outputs": [],
   "source": [
    "# Your answer here"
   ]
  },
  {
   "cell_type": "markdown",
   "id": "0dfd34b8",
   "metadata": {},
   "source": [
    "## Dictionaries and Sets"
   ]
  },
  {
   "cell_type": "markdown",
   "id": "e7aa133f",
   "metadata": {},
   "source": [
    "### 1. Create a dictionary representing a person with keys 'name', 'age', and 'city'."
   ]
  },
  {
   "cell_type": "code",
   "execution_count": null,
   "id": "e09e3d3c",
   "metadata": {},
   "outputs": [],
   "source": [
    "# Your answer here"
   ]
  },
  {
   "cell_type": "markdown",
   "id": "6cd2cfd0",
   "metadata": {},
   "source": [
    "### 2. Write a program to remove duplicate elements from a list and convert it to a set."
   ]
  },
  {
   "cell_type": "code",
   "execution_count": null,
   "id": "7375c9d9",
   "metadata": {},
   "outputs": [],
   "source": [
    "# Your answer here"
   ]
  },
  {
   "cell_type": "markdown",
   "id": "d3caafc6",
   "metadata": {},
   "source": [
    "## Strings and Regular Expressions"
   ]
  },
  {
   "cell_type": "markdown",
   "id": "8b9b7278",
   "metadata": {},
   "source": [
    "### 1. Write a regular expression to match email addresses."
   ]
  },
  {
   "cell_type": "code",
   "execution_count": null,
   "id": "dd4d5f77",
   "metadata": {},
   "outputs": [],
   "source": [
    "# Your answer here"
   ]
  },
  {
   "cell_type": "markdown",
   "id": "907c0a09",
   "metadata": {},
   "source": [
    "### 2. Use string formatting to create a dynamic message with placeholders."
   ]
  },
  {
   "cell_type": "code",
   "execution_count": null,
   "id": "5fc2fe23",
   "metadata": {},
   "outputs": [],
   "source": [
    "# Your answer here"
   ]
  }
 ],
 "metadata": {
  "kernelspec": {
   "display_name": "Python 3 (ipykernel)",
   "language": "python",
   "name": "python3"
  },
  "language_info": {
   "codemirror_mode": {
    "name": "ipython",
    "version": 3
   },
   "file_extension": ".py",
   "mimetype": "text/x-python",
   "name": "python",
   "nbconvert_exporter": "python",
   "pygments_lexer": "ipython3",
   "version": "3.11.5"
  }
 },
 "nbformat": 4,
 "nbformat_minor": 5
}
