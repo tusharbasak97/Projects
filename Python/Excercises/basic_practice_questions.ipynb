{
 "cells": [
  {
   "cell_type": "markdown",
   "id": "6a9e5d65",
   "metadata": {},
   "source": [
    "# Python Practice Questions"
   ]
  },
  {
   "cell_type": "markdown",
   "id": "53996f30",
   "metadata": {},
   "source": [
    "### Question 1\n",
    "\n",
    "Print \"Hello, World!\" using Python."
   ]
  },
  {
   "cell_type": "code",
   "execution_count": null,
   "id": "4894185e",
   "metadata": {},
   "outputs": [],
   "source": [
    "# My answer here"
   ]
  },
  {
   "cell_type": "markdown",
   "id": "6982aec2",
   "metadata": {},
   "source": [
    "### Question 2\n",
    "\n",
    "Declare a variable `x` and assign it the value 5."
   ]
  },
  {
   "cell_type": "code",
   "execution_count": null,
   "id": "49b0c9aa",
   "metadata": {},
   "outputs": [],
   "source": [
    "# My answer here"
   ]
  },
  {
   "cell_type": "markdown",
   "id": "cb5b2886",
   "metadata": {},
   "source": [
    "### Question 3\n",
    "\n",
    "Print the value of `x`."
   ]
  },
  {
   "cell_type": "code",
   "execution_count": null,
   "id": "80ced8b3",
   "metadata": {},
   "outputs": [],
   "source": [
    "# My answer here"
   ]
  },
  {
   "cell_type": "markdown",
   "id": "30657cf4",
   "metadata": {},
   "source": [
    "### Question 4\n",
    "\n",
    "What is the difference between single and double quotes in Python?"
   ]
  },
  {
   "cell_type": "code",
   "execution_count": null,
   "id": "45a2ebe3",
   "metadata": {},
   "outputs": [],
   "source": [
    "# My answer here"
   ]
  },
  {
   "cell_type": "markdown",
   "id": "585554c3",
   "metadata": {},
   "source": [
    "### Question 5\n",
    "\n",
    "Create a list with elements: 1, 2, 3, 4, 5."
   ]
  },
  {
   "cell_type": "code",
   "execution_count": null,
   "id": "10f82c9a",
   "metadata": {},
   "outputs": [],
   "source": [
    "# My answer here"
   ]
  },
  {
   "cell_type": "markdown",
   "id": "2f5bc71c",
   "metadata": {},
   "source": [
    "### Question 6\n",
    "\n",
    "Access and print the third element of the list."
   ]
  },
  {
   "cell_type": "code",
   "execution_count": null,
   "id": "19f0f316",
   "metadata": {},
   "outputs": [],
   "source": [
    "# My answer here"
   ]
  },
  {
   "cell_type": "markdown",
   "id": "41d08104",
   "metadata": {},
   "source": [
    "### Question 7\n",
    "\n",
    "Add a new element (6) to the list."
   ]
  },
  {
   "cell_type": "code",
   "execution_count": null,
   "id": "87857007",
   "metadata": {},
   "outputs": [],
   "source": [
    "# My answer here"
   ]
  },
  {
   "cell_type": "markdown",
   "id": "a567fef8",
   "metadata": {},
   "source": [
    "### Question 8\n",
    "\n",
    "Create a tuple with elements: 'apple', 'banana', 'cherry'."
   ]
  },
  {
   "cell_type": "code",
   "execution_count": null,
   "id": "32192660",
   "metadata": {},
   "outputs": [],
   "source": [
    "# My answer here"
   ]
  },
  {
   "cell_type": "markdown",
   "id": "c2e61306",
   "metadata": {},
   "source": [
    "### Question 9\n",
    "\n",
    "What is the key difference between a list and a tuple?"
   ]
  },
  {
   "cell_type": "code",
   "execution_count": null,
   "id": "e67787b0",
   "metadata": {},
   "outputs": [],
   "source": [
    "# My answer here"
   ]
  },
  {
   "cell_type": "markdown",
   "id": "d0932b73",
   "metadata": {},
   "source": [
    "### Question 10\n",
    "\n",
    "Declare a dictionary with keys: 'name', 'age', 'city' and corresponding values."
   ]
  },
  {
   "cell_type": "code",
   "execution_count": null,
   "id": "bfe94daf",
   "metadata": {},
   "outputs": [],
   "source": [
    "# My answer here"
   ]
  },
  {
   "cell_type": "markdown",
   "id": "e48cf265",
   "metadata": {},
   "source": [
    "### Question 11\n",
    "\n",
    "Print only the keys of the dictionary."
   ]
  },
  {
   "cell_type": "code",
   "execution_count": null,
   "id": "32a62c63",
   "metadata": {},
   "outputs": [],
   "source": [
    "# My answer here"
   ]
  },
  {
   "cell_type": "markdown",
   "id": "4fef306e",
   "metadata": {},
   "source": [
    "### Question 12\n",
    "\n",
    "Print only the values of the dictionary."
   ]
  },
  {
   "cell_type": "code",
   "execution_count": null,
   "id": "8ed286e0",
   "metadata": {},
   "outputs": [],
   "source": [
    "# My answer here"
   ]
  },
  {
   "cell_type": "markdown",
   "id": "067caf3c",
   "metadata": {},
   "source": [
    "### Question 13\n",
    "\n",
    "Create a function `add_numbers` that takes two parameters and returns their sum."
   ]
  },
  {
   "cell_type": "code",
   "execution_count": null,
   "id": "c8db4fd4",
   "metadata": {},
   "outputs": [],
   "source": [
    "# My answer here"
   ]
  },
  {
   "cell_type": "markdown",
   "id": "643c41ba",
   "metadata": {},
   "source": [
    "### Question 14\n",
    "\n",
    "Call the function `add_numbers` with arguments 3 and 7."
   ]
  },
  {
   "cell_type": "code",
   "execution_count": null,
   "id": "d0190a51",
   "metadata": {},
   "outputs": [],
   "source": [
    "# My answer here"
   ]
  },
  {
   "cell_type": "markdown",
   "id": "d92db344",
   "metadata": {},
   "source": [
    "### Question 15\n",
    "\n",
    "Define a conditional statement that prints \"Even\" if a number is even and \"Odd\" if it's odd."
   ]
  },
  {
   "cell_type": "code",
   "execution_count": null,
   "id": "d3c0d8ce",
   "metadata": {},
   "outputs": [],
   "source": [
    "# My answer here"
   ]
  },
  {
   "cell_type": "markdown",
   "id": "14b2153c",
   "metadata": {},
   "source": [
    "### Question 16\n",
    "\n",
    "Use a loop to print numbers from 1 to 5."
   ]
  },
  {
   "cell_type": "code",
   "execution_count": null,
   "id": "f46cf056",
   "metadata": {},
   "outputs": [],
   "source": [
    "# My answer here"
   ]
  },
  {
   "cell_type": "markdown",
   "id": "a3bede05",
   "metadata": {},
   "source": [
    "### Question 17\n",
    "\n",
    "Create a list comprehension to generate a list of squares of numbers from 1 to 5."
   ]
  },
  {
   "cell_type": "code",
   "execution_count": null,
   "id": "43b676ed",
   "metadata": {},
   "outputs": [],
   "source": [
    "# My answer here"
   ]
  },
  {
   "cell_type": "markdown",
   "id": "b8c0a71d",
   "metadata": {},
   "source": [
    "### Question 18\n",
    "\n",
    "Define a class `Person` with attributes name and age."
   ]
  },
  {
   "cell_type": "code",
   "execution_count": null,
   "id": "73a8975a",
   "metadata": {},
   "outputs": [],
   "source": [
    "# My answer here"
   ]
  },
  {
   "cell_type": "markdown",
   "id": "e0b51502",
   "metadata": {},
   "source": [
    "### Question 19\n",
    "\n",
    "Create an instance of the `Person` class with the name 'John' and age 25."
   ]
  },
  {
   "cell_type": "code",
   "execution_count": null,
   "id": "7e03d3e4",
   "metadata": {},
   "outputs": [],
   "source": [
    "# My answer here"
   ]
  },
  {
   "cell_type": "markdown",
   "id": "f69931e9",
   "metadata": {},
   "source": [
    "### Question 20\n",
    "\n",
    "Print the name and age of the person instance."
   ]
  },
  {
   "cell_type": "code",
   "execution_count": null,
   "id": "4df6ab95",
   "metadata": {},
   "outputs": [],
   "source": [
    "# My answer here"
   ]
  },
  {
   "cell_type": "markdown",
   "id": "9cd61f2d",
   "metadata": {},
   "source": [
    "### Question 21\n",
    "\n",
    "Import the `math` module and use it to calculate the square root of 16."
   ]
  },
  {
   "cell_type": "code",
   "execution_count": null,
   "id": "c1517099",
   "metadata": {},
   "outputs": [],
   "source": [
    "# My answer here"
   ]
  },
  {
   "cell_type": "markdown",
   "id": "75007bf1",
   "metadata": {},
   "source": [
    "### Question 22\n",
    "\n",
    "What is the purpose of the `if __name__ == \"__main__\":` statement in Python?"
   ]
  },
  {
   "cell_type": "code",
   "execution_count": null,
   "id": "3dbb3b6b",
   "metadata": {},
   "outputs": [],
   "source": [
    "# My answer here"
   ]
  },
  {
   "cell_type": "markdown",
   "id": "c5b65505",
   "metadata": {},
   "source": [
    "### Question 23\n",
    "\n",
    "Write a file named 'example.txt' with the content \"Hello, file handling!\"."
   ]
  },
  {
   "cell_type": "code",
   "execution_count": null,
   "id": "151a7cd5",
   "metadata": {},
   "outputs": [],
   "source": [
    "# My answer here"
   ]
  },
  {
   "cell_type": "markdown",
   "id": "7a0810bf",
   "metadata": {},
   "source": [
    "### Question 24\n",
    "\n",
    "Read the content of 'example.txt' and print it."
   ]
  },
  {
   "cell_type": "code",
   "execution_count": null,
   "id": "20abf9c4",
   "metadata": {},
   "outputs": [],
   "source": [
    "# My answer here"
   ]
  },
  {
   "cell_type": "markdown",
   "id": "b9e6ebba",
   "metadata": {},
   "source": [
    "### Question 25\n",
    "\n",
    "Handle an exception for reading a non-existing file and print a custom error message."
   ]
  },
  {
   "cell_type": "code",
   "execution_count": null,
   "id": "59be0886",
   "metadata": {},
   "outputs": [],
   "source": [
    "# My answer here"
   ]
  },
  {
   "cell_type": "markdown",
   "id": "0131e4cd",
   "metadata": {},
   "source": [
    "### Question 26\n",
    "\n",
    "Use a `while` loop to print numbers from 1 to 3."
   ]
  },
  {
   "cell_type": "code",
   "execution_count": null,
   "id": "12906501",
   "metadata": {},
   "outputs": [],
   "source": [
    "# My answer here"
   ]
  },
  {
   "cell_type": "markdown",
   "id": "03d1f07f",
   "metadata": {},
   "source": [
    "### Question 27\n",
    "\n",
    "Create a function that takes a list as a parameter and returns the sum of its elements."
   ]
  },
  {
   "cell_type": "code",
   "execution_count": null,
   "id": "2ec63c9a",
   "metadata": {},
   "outputs": [],
   "source": [
    "# My answer here"
   ]
  },
  {
   "cell_type": "markdown",
   "id": "77182ec2",
   "metadata": {},
   "source": [
    "### Question 28\n",
    "\n",
    "Sort the list [5, 2, 8, 1, 3] in ascending order."
   ]
  },
  {
   "cell_type": "code",
   "execution_count": null,
   "id": "df7a3b74",
   "metadata": {},
   "outputs": [],
   "source": [
    "# My answer here"
   ]
  },
  {
   "cell_type": "markdown",
   "id": "4d8f1cdb",
   "metadata": {},
   "source": [
    "### Question 29\n",
    "\n",
    "Reverse the order of the elements in the sorted list."
   ]
  },
  {
   "cell_type": "code",
   "execution_count": null,
   "id": "fe3c8bf9",
   "metadata": {},
   "outputs": [],
   "source": [
    "# My answer here"
   ]
  },
  {
   "cell_type": "markdown",
   "id": "a5a1e31a",
   "metadata": {},
   "source": [
    "### Question 30\n",
    "\n",
    "Create a set with elements: 1, 2, 3, 4, 5."
   ]
  },
  {
   "cell_type": "code",
   "execution_count": null,
   "id": "71337dd4",
   "metadata": {},
   "outputs": [],
   "source": [
    "# My answer here"
   ]
  },
  {
   "cell_type": "markdown",
   "id": "66ddb220",
   "metadata": {},
   "source": [
    "### Question 31\n",
    "\n",
    "Add an element (6) to the set."
   ]
  },
  {
   "cell_type": "code",
   "execution_count": null,
   "id": "7d1d722d",
   "metadata": {},
   "outputs": [],
   "source": [
    "# My answer here"
   ]
  },
  {
   "cell_type": "markdown",
   "id": "c41571b5",
   "metadata": {},
   "source": [
    "### Question 32\n",
    "\n",
    "Remove an element (3) from the set."
   ]
  },
  {
   "cell_type": "code",
   "execution_count": null,
   "id": "f46f89c4",
   "metadata": {},
   "outputs": [],
   "source": [
    "# My answer here"
   ]
  },
  {
   "cell_type": "markdown",
   "id": "d0ca10dd",
   "metadata": {},
   "source": [
    "### Question 33\n",
    "\n",
    "Check if an element (4) is present in the set."
   ]
  },
  {
   "cell_type": "code",
   "execution_count": null,
   "id": "8a5eb571",
   "metadata": {},
   "outputs": [],
   "source": [
    "# My answer here"
   ]
  },
  {
   "cell_type": "markdown",
   "id": "f02cafef",
   "metadata": {},
   "source": [
    "### Question 34\n",
    "\n",
    "Use a for loop to iterate over the elements of the set and print them."
   ]
  },
  {
   "cell_type": "code",
   "execution_count": null,
   "id": "e711e892",
   "metadata": {},
   "outputs": [],
   "source": [
    "# My answer here"
   ]
  },
  {
   "cell_type": "markdown",
   "id": "ecd56a16",
   "metadata": {},
   "source": [
    "### Question 35\n",
    "\n",
    "Define a lambda function that adds two numbers and use it to add 3 and 4."
   ]
  },
  {
   "cell_type": "code",
   "execution_count": null,
   "id": "3ea82cfd",
   "metadata": {},
   "outputs": [],
   "source": [
    "# My answer here"
   ]
  },
  {
   "cell_type": "markdown",
   "id": "4c1c3822",
   "metadata": {},
   "source": [
    "### Question 36\n",
    "\n",
    "What is the purpose of the `pass` statement in Python?"
   ]
  },
  {
   "cell_type": "code",
   "execution_count": null,
   "id": "1b8e0847",
   "metadata": {},
   "outputs": [],
   "source": [
    "# My answer here"
   ]
  },
  {
   "cell_type": "markdown",
   "id": "a7a8a50d",
   "metadata": {},
   "source": [
    "### Question 37\n",
    "\n",
    "Convert the string \"123\" to an integer."
   ]
  },
  {
   "cell_type": "code",
   "execution_count": null,
   "id": "20ff0acc",
   "metadata": {},
   "outputs": [],
   "source": [
    "# My answer here"
   ]
  },
  {
   "cell_type": "markdown",
   "id": "6bd22f65",
   "metadata": {},
   "source": [
    "### Question 38\n",
    "\n",
    "Convert the integer 456 to a string."
   ]
  },
  {
   "cell_type": "code",
   "execution_count": null,
   "id": "237a39c5",
   "metadata": {},
   "outputs": [],
   "source": [
    "# My answer here"
   ]
  },
  {
   "cell_type": "markdown",
   "id": "9dc24814",
   "metadata": {},
   "source": [
    "### Question 39\n",
    "\n",
    "Slice the string \"Hello, World!\" to get only \"Hello\"."
   ]
  },
  {
   "cell_type": "code",
   "execution_count": null,
   "id": "048f4d69",
   "metadata": {},
   "outputs": [],
   "source": [
    "# My answer here"
   ]
  },
  {
   "cell_type": "markdown",
   "id": "db770815",
   "metadata": {},
   "source": [
    "### Question 40\n",
    "\n",
    "Concatenate the strings \"Hello\" and \"World!\"."
   ]
  },
  {
   "cell_type": "code",
   "execution_count": null,
   "id": "bd345fb7",
   "metadata": {},
   "outputs": [],
   "source": [
    "# My answer here"
   ]
  },
  {
   "cell_type": "markdown",
   "id": "ecd60efa",
   "metadata": {},
   "source": [
    "### Question 41\n",
    "\n",
    "Find the length of the string \"Python\"."
   ]
  },
  {
   "cell_type": "code",
   "execution_count": null,
   "id": "4c3ea9d4",
   "metadata": {},
   "outputs": [],
   "source": [
    "# My answer here"
   ]
  },
  {
   "cell_type": "markdown",
   "id": "6b4d64d4",
   "metadata": {},
   "source": [
    "### Question 42\n",
    "\n",
    "Replace the word \"old\" with \"new\" in the string \"An old book\"."
   ]
  },
  {
   "cell_type": "code",
   "execution_count": null,
   "id": "070e960a",
   "metadata": {},
   "outputs": [],
   "source": [
    "# My answer here"
   ]
  },
  {
   "cell_type": "markdown",
   "id": "8e7ddd57",
   "metadata": {},
   "source": [
    "### Question 43\n",
    "\n",
    "Convert the string \"3.14\" to a floating-point number."
   ]
  },
  {
   "cell_type": "code",
   "execution_count": null,
   "id": "6a40275f",
   "metadata": {},
   "outputs": [],
   "source": [
    "# My answer here"
   ]
  },
  {
   "cell_type": "markdown",
   "id": "9cd19d5c",
   "metadata": {},
   "source": [
    "### Question 44\n",
    "\n",
    "Use a list slice to get the last three elements of a list."
   ]
  },
  {
   "cell_type": "code",
   "execution_count": null,
   "id": "260a7001",
   "metadata": {},
   "outputs": [],
   "source": [
    "# My answer here"
   ]
  },
  {
   "cell_type": "markdown",
   "id": "24953dcf",
   "metadata": {},
   "source": [
    "### Question 45\n",
    "\n",
    "Check if a number is positive, negative, or zero using if-elif-else statements."
   ]
  },
  {
   "cell_type": "code",
   "execution_count": null,
   "id": "8d939761",
   "metadata": {},
   "outputs": [],
   "source": [
    "# My answer here"
   ]
  },
  {
   "cell_type": "markdown",
   "id": "ff7b084c",
   "metadata": {},
   "source": [
    "### Question 46\n",
    "\n",
    "Write a function that returns the factorial of a given number."
   ]
  },
  {
   "cell_type": "code",
   "execution_count": null,
   "id": "6166c297",
   "metadata": {},
   "outputs": [],
   "source": [
    "# My answer here"
   ]
  },
  {
   "cell_type": "markdown",
   "id": "bd54fd6b",
   "metadata": {},
   "source": [
    "### Question 47\n",
    "\n",
    "Create a module named `calculator` with functions for addition, subtraction, multiplication, and division."
   ]
  },
  {
   "cell_type": "code",
   "execution_count": null,
   "id": "232b8837",
   "metadata": {},
   "outputs": [],
   "source": [
    "# My answer here"
   ]
  },
  {
   "cell_type": "markdown",
   "id": "3a88ab1d",
   "metadata": {},
   "source": [
    "### Question 48\n",
    "\n",
    "Import the `calculator` module and use its functions to perform arithmetic operations."
   ]
  },
  {
   "cell_type": "code",
   "execution_count": null,
   "id": "f338a1c2",
   "metadata": {},
   "outputs": [],
   "source": [
    "# My answer here"
   ]
  },
  {
   "cell_type": "markdown",
   "id": "6e192fc2",
   "metadata": {},
   "source": [
    "### Question 49\n",
    "\n",
    "Define a generator function that yields square numbers up to a given limit."
   ]
  },
  {
   "cell_type": "code",
   "execution_count": null,
   "id": "457e10fb",
   "metadata": {},
   "outputs": [],
   "source": [
    "# My answer here"
   ]
  },
  {
   "cell_type": "markdown",
   "id": "bb1d0649",
   "metadata": {},
   "source": [
    "### Question 50\n",
    "\n",
    "Use a list comprehension to create a list of even numbers from 1 to 10."
   ]
  },
  {
   "cell_type": "code",
   "execution_count": null,
   "id": "7a077e2e",
   "metadata": {},
   "outputs": [],
   "source": [
    "# My answer here"
   ]
  },
  {
   "cell_type": "markdown",
   "id": "15be0e57",
   "metadata": {},
   "source": [
    "### Question 51\n",
    "\n",
    "Create a module with a function that takes a CSV file path and returns a list of dictionaries."
   ]
  },
  {
   "cell_type": "code",
   "execution_count": null,
   "id": "9f6d093e",
   "metadata": {},
   "outputs": [],
   "source": [
    "# My answer here"
   ]
  },
  {
   "cell_type": "markdown",
   "id": "9e7cee81",
   "metadata": {},
   "source": [
    "### Question 52\n",
    "\n",
    "Use a `try-except` block to handle division by zero and print an error message."
   ]
  },
  {
   "cell_type": "code",
   "execution_count": null,
   "id": "6204cc9d",
   "metadata": {},
   "outputs": [],
   "source": [
    "# My answer here"
   ]
  },
  {
   "cell_type": "markdown",
   "id": "6a454a79",
   "metadata": {},
   "source": [
    "### Question 53\n",
    "\n",
    "Use the `enumerate` function to iterate over a list and print both index and value."
   ]
  },
  {
   "cell_type": "code",
   "execution_count": null,
   "id": "3e4cbdff",
   "metadata": {},
   "outputs": [],
   "source": [
    "# My answer here"
   ]
  },
  {
   "cell_type": "markdown",
   "id": "6c7456c9",
   "metadata": {},
   "source": [
    "### Question 54\n",
    "\n",
    "Write a regular expression to match email addresses."
   ]
  },
  {
   "cell_type": "code",
   "execution_count": null,
   "id": "e12f8555",
   "metadata": {},
   "outputs": [],
   "source": [
    "# My answer here"
   ]
  },
  {
   "cell_type": "markdown",
   "id": "2427a8d3",
   "metadata": {},
   "source": [
    "### Question 55\n",
    "\n",
    "Use the `random` module to generate a random number between 1 and 10."
   ]
  },
  {
   "cell_type": "code",
   "execution_count": null,
   "id": "779da218",
   "metadata": {},
   "outputs": [],
   "source": [
    "# My answer here"
   ]
  },
  {
   "cell_type": "markdown",
   "id": "357a6ed1",
   "metadata": {},
   "source": [
    "### Question 56\n",
    "\n",
    "Use the `map` function to square each element in a list."
   ]
  },
  {
   "cell_type": "code",
   "execution_count": null,
   "id": "8318576f",
   "metadata": {},
   "outputs": [],
   "source": [
    "# My answer here"
   ]
  },
  {
   "cell_type": "markdown",
   "id": "cbb9086d",
   "metadata": {},
   "source": [
    "### Question 57\n",
    "\n",
    "Create a module with a function that generates a Fibonacci sequence up to a given limit."
   ]
  },
  {
   "cell_type": "code",
   "execution_count": null,
   "id": "6cfc89f5",
   "metadata": {},
   "outputs": [],
   "source": [
    "# My answer here"
   ]
  },
  {
   "cell_type": "markdown",
   "id": "752f0597",
   "metadata": {},
   "source": [
    "### Question 58\n",
    "\n",
    "Write a script that reads a CSV file and prints the average of a specific column."
   ]
  },
  {
   "cell_type": "code",
   "execution_count": null,
   "id": "03f366f7",
   "metadata": {},
   "outputs": [],
   "source": [
    "# My answer here"
   ]
  },
  {
   "cell_type": "markdown",
   "id": "a4a5dbe4",
   "metadata": {},
   "source": [
    "### Question 59\n",
    "\n",
    "Use the `collections` module to create a Counter for a list of elements."
   ]
  },
  {
   "cell_type": "code",
   "execution_count": null,
   "id": "2297af38",
   "metadata": {},
   "outputs": [],
   "source": [
    "# My answer here"
   ]
  },
  {
   "cell_type": "markdown",
   "id": "4ce94c3f",
   "metadata": {},
   "source": [
    "### Question 60\n",
    "\n",
    "Write a function that takes a list and returns a new list with unique elements."
   ]
  },
  {
   "cell_type": "code",
   "execution_count": null,
   "id": "f37000ab",
   "metadata": {},
   "outputs": [],
   "source": [
    "# My answer here"
   ]
  },
  {
   "cell_type": "markdown",
   "id": "1adeec3d",
   "metadata": {},
   "source": [
    "### Question 61\n",
    "\n",
    "Create a multi-line string and use triple quotes for its definition."
   ]
  },
  {
   "cell_type": "code",
   "execution_count": null,
   "id": "8782eccc",
   "metadata": {},
   "outputs": [],
   "source": [
    "# My answer here"
   ]
  },
  {
   "cell_type": "markdown",
   "id": "39f65546",
   "metadata": {},
   "source": [
    "### Question 62\n",
    "\n",
    "Use the `logging` module to log a message with different log levels."
   ]
  },
  {
   "cell_type": "code",
   "execution_count": null,
   "id": "f21c13cf",
   "metadata": {},
   "outputs": [],
   "source": [
    "# My answer here"
   ]
  },
  {
   "cell_type": "markdown",
   "id": "147f18aa",
   "metadata": {},
   "source": [
    "### Question 63\n",
    "\n",
    "Write a function that takes a list of integers and returns the sum of only positive numbers."
   ]
  },
  {
   "cell_type": "code",
   "execution_count": null,
   "id": "96ed5477",
   "metadata": {},
   "outputs": [],
   "source": [
    "# My answer here"
   ]
  },
  {
   "cell_type": "markdown",
   "id": "a63a8e4b",
   "metadata": {},
   "source": [
    "### Question 64\n",
    "\n",
    "Use the `heapq` module to find the three largest elements in a list."
   ]
  },
  {
   "cell_type": "code",
   "execution_count": null,
   "id": "4a2532ce",
   "metadata": {},
   "outputs": [],
   "source": [
    "# My answer here"
   ]
  },
  {
   "cell_type": "markdown",
   "id": "51400f53",
   "metadata": {},
   "source": [
    "### Question 65\n",
    "\n",
    "Create a class that implements the context manager protocol using `__enter__` and `__exit__` methods."
   ]
  },
  {
   "cell_type": "code",
   "execution_count": null,
   "id": "ef265201",
   "metadata": {},
   "outputs": [],
   "source": [
    "# My answer here"
   ]
  },
  {
   "cell_type": "markdown",
   "id": "456223ae",
   "metadata": {},
   "source": [
    "### Question 66\n",
    "\n",
    "Write a script that reads data from a URL using the `requests` library."
   ]
  },
  {
   "cell_type": "code",
   "execution_count": null,
   "id": "562efa73",
   "metadata": {},
   "outputs": [],
   "source": [
    "# My answer here"
   ]
  },
  {
   "cell_type": "markdown",
   "id": "2095f877",
   "metadata": {},
   "source": [
    "### Question 67\n",
    "\n",
    "Use the `re` module to search for a pattern in a string."
   ]
  },
  {
   "cell_type": "code",
   "execution_count": null,
   "id": "f7768c78",
   "metadata": {},
   "outputs": [],
   "source": [
    "# My answer here"
   ]
  },
  {
   "cell_type": "markdown",
   "id": "0ecdccfb",
   "metadata": {},
   "source": [
    "### Question 68\n",
    "\n",
    "Create a module with a function that takes two numbers and returns their quotient and remainder."
   ]
  },
  {
   "cell_type": "code",
   "execution_count": null,
   "id": "8998844b",
   "metadata": {},
   "outputs": [],
   "source": [
    "# My answer here"
   ]
  },
  {
   "cell_type": "markdown",
   "id": "c9ed882e",
   "metadata": {},
   "source": [
    "### Question 69\n",
    "\n",
    "Write a function that takes a list of strings and returns a new list with elements sorted in descending order."
   ]
  },
  {
   "cell_type": "code",
   "execution_count": null,
   "id": "c478d995",
   "metadata": {},
   "outputs": [],
   "source": [
    "# My answer here"
   ]
  },
  {
   "cell_type": "markdown",
   "id": "34e178ad",
   "metadata": {},
   "source": [
    "### Question 70\n",
    "\n",
    "Use the `argparse` module to parse command line arguments in a script."
   ]
  },
  {
   "cell_type": "code",
   "execution_count": null,
   "id": "5e629522",
   "metadata": {},
   "outputs": [],
   "source": [
    "# My answer here"
   ]
  },
  {
   "cell_type": "markdown",
   "id": "88ade4dd",
   "metadata": {},
   "source": [
    "### Question 71\n",
    "\n",
    "Write a function that takes a list of strings and returns the longest string."
   ]
  },
  {
   "cell_type": "code",
   "execution_count": null,
   "id": "743d9e2a",
   "metadata": {},
   "outputs": [],
   "source": [
    "# My answer here"
   ]
  },
  {
   "cell_type": "markdown",
   "id": "06c909dd",
   "metadata": {},
   "source": [
    "### Question 72\n",
    "\n",
    "Use the `itertools` module to generate all permutations of a list."
   ]
  },
  {
   "cell_type": "code",
   "execution_count": null,
   "id": "f53cb9d2",
   "metadata": {},
   "outputs": [],
   "source": [
    "# My answer here"
   ]
  },
  {
   "cell_type": "markdown",
   "id": "212a9476",
   "metadata": {},
   "source": [
    "### Question 73\n",
    "\n",
    "Write a script that reads data from an API using the `requests` library."
   ]
  },
  {
   "cell_type": "code",
   "execution_count": null,
   "id": "94d73808",
   "metadata": {},
   "outputs": [],
   "source": [
    "# My answer here"
   ]
  },
  {
   "cell_type": "markdown",
   "id": "d5e00bdd",
   "metadata": {},
   "source": [
    "### Question 74\n",
    "\n",
    "Create a function that takes a list of numbers and returns the median."
   ]
  },
  {
   "cell_type": "code",
   "execution_count": null,
   "id": "f16f91fc",
   "metadata": {},
   "outputs": [],
   "source": [
    "# My answer here"
   ]
  },
  {
   "cell_type": "markdown",
   "id": "391f4020",
   "metadata": {},
   "source": [
    "### Question 75\n",
    "\n",
    "Use the `os` module to check if a file exists before reading it."
   ]
  },
  {
   "cell_type": "code",
   "execution_count": null,
   "id": "d2ec6b14",
   "metadata": {},
   "outputs": [],
   "source": [
    "# My answer here"
   ]
  },
  {
   "cell_type": "markdown",
   "id": "8a31b1af",
   "metadata": {},
   "source": [
    "### Question 76\n",
    "\n",
    "Write a function that takes a string and returns the number of vowels in it."
   ]
  },
  {
   "cell_type": "code",
   "execution_count": null,
   "id": "233b6c7d",
   "metadata": {},
   "outputs": [],
   "source": [
    "# My answer here"
   ]
  },
  {
   "cell_type": "markdown",
   "id": "af4f32e7",
   "metadata": {},
   "source": [
    "### Question 77\n",
    "\n",
    "Use the `subprocess` module to run an external command from a Python script."
   ]
  },
  {
   "cell_type": "code",
   "execution_count": null,
   "id": "4f22b27d",
   "metadata": {},
   "outputs": [],
   "source": [
    "# My answer here"
   ]
  },
  {
   "cell_type": "markdown",
   "id": "82c85c45",
   "metadata": {},
   "source": [
    "### Question 78\n",
    "\n",
    "Create a class with a property that can be both get and set."
   ]
  },
  {
   "cell_type": "code",
   "execution_count": null,
   "id": "edf995e7",
   "metadata": {},
   "outputs": [],
   "source": [
    "# My answer here"
   ]
  },
  {
   "cell_type": "markdown",
   "id": "ce33fe3c",
   "metadata": {},
   "source": [
    "### Question 79\n",
    "\n",
    "Write a function that takes a list of strings and returns a new list with only unique strings."
   ]
  },
  {
   "cell_type": "code",
   "execution_count": null,
   "id": "51be4ff2",
   "metadata": {},
   "outputs": [],
   "source": [
    "# My answer here"
   ]
  },
  {
   "cell_type": "markdown",
   "id": "57a2ee2c",
   "metadata": {},
   "source": [
    "### Question 80\n",
    "\n",
    "Use the `unittest` module to write a simple test case for a function."
   ]
  },
  {
   "cell_type": "code",
   "execution_count": null,
   "id": "7161a2cf",
   "metadata": {},
   "outputs": [],
   "source": [
    "# My answer here"
   ]
  },
  {
   "cell_type": "markdown",
   "id": "88e774cf",
   "metadata": {},
   "source": [
    "### Question 81\n",
    "\n",
    "Write a script that logs messages to a file using the `logging` module."
   ]
  },
  {
   "cell_type": "code",
   "execution_count": null,
   "id": "300dafdc",
   "metadata": {},
   "outputs": [],
   "source": [
    "# My answer here"
   ]
  },
  {
   "cell_type": "markdown",
   "id": "e8741245",
   "metadata": {},
   "source": [
    "### Question 82\n",
    "\n",
    "Create a class with a static method that performs a simple calculation."
   ]
  },
  {
   "cell_type": "code",
   "execution_count": null,
   "id": "604ab0fd",
   "metadata": {},
   "outputs": [],
   "source": [
    "# My answer here"
   ]
  },
  {
   "cell_type": "markdown",
   "id": "32c5fd62",
   "metadata": {},
   "source": [
    "### Question 83\n",
    "\n",
    "Write a script that uses the `pickle` module to serialize and deserialize an object."
   ]
  },
  {
   "cell_type": "code",
   "execution_count": null,
   "id": "54700f78",
   "metadata": {},
   "outputs": [],
   "source": [
    "# My answer here"
   ]
  }
 ],
 "metadata": {
  "kernelspec": {
   "display_name": "Python 3 (ipykernel)",
   "language": "python",
   "name": "python3"
  },
  "language_info": {
   "codemirror_mode": {
    "name": "ipython",
    "version": 3
   },
   "file_extension": ".py",
   "mimetype": "text/x-python",
   "name": "python",
   "nbconvert_exporter": "python",
   "pygments_lexer": "ipython3",
   "version": "3.11.5"
  }
 },
 "nbformat": 4,
 "nbformat_minor": 5
}
